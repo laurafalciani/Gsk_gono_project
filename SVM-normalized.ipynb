{
 "cells": [
  {
   "cell_type": "code",
   "execution_count": 87,
   "id": "international-china",
   "metadata": {},
   "outputs": [],
   "source": [
    "from sklearn import svm\n",
    "import pandas as pd\n",
    "import numpy as np\n",
    "from sklearn import metrics\n",
    "from matplotlib import pyplot as plt\n"
   ]
  },
  {
   "cell_type": "code",
   "execution_count": 88,
   "id": "center-shower",
   "metadata": {},
   "outputs": [
    {
     "name": "stderr",
     "output_type": "stream",
     "text": [
      "/home/lf481323/.conda/envs/torchGeoM/lib/python3.9/site-packages/IPython/core/interactiveshell.py:3444: DtypeWarning: Columns (14,15,16,17,18,19,20,21,22,23,24,25,26,27,28,29,30,31,32,33,34,35,36,37,38,39,40,41,42,43,44,45,46,47,48,49,50,51,52,53,54,55,56,57,58,59,60,61,62,63,64,65,66,67,68,69,70,71,72,73,74,75,76,77,78,79,80,81,82,83,84,85,86,87,88,89,90,91,92,93,94,95,96,97,98,99,100,101,102,103,104,105,106,107,108,109,110,111,112,113,114,115,116,117,118,119,120,121,122,123,124,125,126,127,128,129,130,131,132,133,134,135,136,137,138,139,140,141,142,143,144,145,146,147,148,149,150,151,152,153,154,155,156,157,158,159,160,161,162,163,164,165,166,167,168,169,170,171,172,173,174,175,176,177,178,179,180,181,182,183,184,185,186,187,188,189,190,191,192,193,194,195,196,197,198,199,200,201,202,203,204,205,206,207,208,209,210,211,212,213,214,215,216,217,218,219,220,221,222,223,224,225,226,227,228,229,230,231,232,233,234,235,236,237,238,239,240,241,242,243,244,245,246,247,248,249,250,251,252,253,254,255,256,257,258,259,260,261,262,263,264,265,268,269,270,273,275,300,304,306,309,311,314,315,323,325,326,328,329,336,349,350,355,357,358,373,384,385,388,392,394,400,417,418,422,430) have mixed types.Specify dtype option on import or set low_memory=False.\n",
      "  exec(code_obj, self.user_global_ns, self.user_ns)\n"
     ]
    }
   ],
   "source": [
    "df = pd.read_csv('genepresenceabsencefiltered.csv', index_col = 0, sep = ';')"
   ]
  },
  {
   "cell_type": "code",
   "execution_count": 89,
   "id": "protected-dependence",
   "metadata": {},
   "outputs": [
    {
     "data": {
      "text/html": [
       "<div>\n",
       "<style scoped>\n",
       "    .dataframe tbody tr th:only-of-type {\n",
       "        vertical-align: middle;\n",
       "    }\n",
       "\n",
       "    .dataframe tbody tr th {\n",
       "        vertical-align: top;\n",
       "    }\n",
       "\n",
       "    .dataframe thead th {\n",
       "        text-align: right;\n",
       "    }\n",
       "</style>\n",
       "<table border=\"1\" class=\"dataframe\">\n",
       "  <thead>\n",
       "    <tr style=\"text-align: right;\">\n",
       "      <th></th>\n",
       "      <th>Non-unique Gene name</th>\n",
       "      <th>Annotation</th>\n",
       "      <th>No. isolates</th>\n",
       "      <th>No. sequences</th>\n",
       "      <th>Avg sequences per isolate</th>\n",
       "      <th>Genome Fragment</th>\n",
       "      <th>Order within Fragment</th>\n",
       "      <th>Accessory Fragment</th>\n",
       "      <th>Accessory Order with Fragment</th>\n",
       "      <th>QC</th>\n",
       "      <th>...</th>\n",
       "      <th>61346_KN13_116</th>\n",
       "      <th>61347_05_590_19</th>\n",
       "      <th>61348_08_590_256</th>\n",
       "      <th>61353_IN_09_3875</th>\n",
       "      <th>61354_IN_09_3830</th>\n",
       "      <th>61379_WHO_Z</th>\n",
       "      <th>61380_BEL_10_3</th>\n",
       "      <th>61381_989000041</th>\n",
       "      <th>61382_IC_CNR077</th>\n",
       "      <th>61383_IC_15039</th>\n",
       "    </tr>\n",
       "    <tr>\n",
       "      <th>Gene</th>\n",
       "      <th></th>\n",
       "      <th></th>\n",
       "      <th></th>\n",
       "      <th></th>\n",
       "      <th></th>\n",
       "      <th></th>\n",
       "      <th></th>\n",
       "      <th></th>\n",
       "      <th></th>\n",
       "      <th></th>\n",
       "      <th></th>\n",
       "      <th></th>\n",
       "      <th></th>\n",
       "      <th></th>\n",
       "      <th></th>\n",
       "      <th></th>\n",
       "      <th></th>\n",
       "      <th></th>\n",
       "      <th></th>\n",
       "      <th></th>\n",
       "      <th></th>\n",
       "    </tr>\n",
       "  </thead>\n",
       "  <tbody>\n",
       "    <tr>\n",
       "      <th>group_1034</th>\n",
       "      <td>NaN</td>\n",
       "      <td>Type IV pilus assembly protein PilM</td>\n",
       "      <td>NaN</td>\n",
       "      <td>NaN</td>\n",
       "      <td>NaN</td>\n",
       "      <td>NaN</td>\n",
       "      <td>NaN</td>\n",
       "      <td>NaN</td>\n",
       "      <td>NaN</td>\n",
       "      <td>NaN</td>\n",
       "      <td>...</td>\n",
       "      <td>NaN</td>\n",
       "      <td>NaN</td>\n",
       "      <td>NaN</td>\n",
       "      <td>NaN</td>\n",
       "      <td>NaN</td>\n",
       "      <td>NaN</td>\n",
       "      <td>NaN</td>\n",
       "      <td>NaN</td>\n",
       "      <td>NaN</td>\n",
       "      <td>NaN</td>\n",
       "    </tr>\n",
       "    <tr>\n",
       "      <th>cysNC</th>\n",
       "      <td>NaN</td>\n",
       "      <td>Bifunctional enzyme CysN/CysC</td>\n",
       "      <td>414.0</td>\n",
       "      <td>414.0</td>\n",
       "      <td>1.0</td>\n",
       "      <td>1.0</td>\n",
       "      <td>1874.0</td>\n",
       "      <td>52.0</td>\n",
       "      <td>1.0</td>\n",
       "      <td>NaN</td>\n",
       "      <td>...</td>\n",
       "      <td>g61346_00669</td>\n",
       "      <td>g61347_00331</td>\n",
       "      <td>g61348_01910</td>\n",
       "      <td>g61353_00249</td>\n",
       "      <td>g61354_00254</td>\n",
       "      <td>g61379_00338</td>\n",
       "      <td>g61380_00227</td>\n",
       "      <td>g61381_00179</td>\n",
       "      <td>g61382_00291</td>\n",
       "      <td>g61383_00205</td>\n",
       "    </tr>\n",
       "    <tr>\n",
       "      <th>group_1277</th>\n",
       "      <td>NaN</td>\n",
       "      <td>Inner membrane protein</td>\n",
       "      <td>414.0</td>\n",
       "      <td>414.0</td>\n",
       "      <td>1.0</td>\n",
       "      <td>1.0</td>\n",
       "      <td>3035.0</td>\n",
       "      <td>15.0</td>\n",
       "      <td>3.0</td>\n",
       "      <td>NaN</td>\n",
       "      <td>...</td>\n",
       "      <td>g61346_00555</td>\n",
       "      <td>g61347_00650</td>\n",
       "      <td>g61348_00939</td>\n",
       "      <td>g61353_00454</td>\n",
       "      <td>g61354_00411</td>\n",
       "      <td>g61379_00419</td>\n",
       "      <td>g61380_00572</td>\n",
       "      <td>g61381_01673</td>\n",
       "      <td>g61382_00550</td>\n",
       "      <td>g61383_00520</td>\n",
       "    </tr>\n",
       "    <tr>\n",
       "      <th>group_1352</th>\n",
       "      <td>NaN</td>\n",
       "      <td>hypothetical protein</td>\n",
       "      <td>414.0</td>\n",
       "      <td>414.0</td>\n",
       "      <td>1.0</td>\n",
       "      <td>1.0</td>\n",
       "      <td>2655.0</td>\n",
       "      <td>35.0</td>\n",
       "      <td>2.0</td>\n",
       "      <td>NaN</td>\n",
       "      <td>...</td>\n",
       "      <td>g61346_01119</td>\n",
       "      <td>g61347_01122</td>\n",
       "      <td>g61348_01062</td>\n",
       "      <td>g61353_01108</td>\n",
       "      <td>g61354_01255</td>\n",
       "      <td>g61379_00964</td>\n",
       "      <td>g61380_01286</td>\n",
       "      <td>g61381_00995</td>\n",
       "      <td>g61382_01220</td>\n",
       "      <td>g61383_01079</td>\n",
       "    </tr>\n",
       "    <tr>\n",
       "      <th>group_1405</th>\n",
       "      <td>NaN</td>\n",
       "      <td>hypothetical protein</td>\n",
       "      <td>414.0</td>\n",
       "      <td>414.0</td>\n",
       "      <td>1.0</td>\n",
       "      <td>1.0</td>\n",
       "      <td>749.0</td>\n",
       "      <td>147.0</td>\n",
       "      <td>1.0</td>\n",
       "      <td>Hypothetical protein with no hits to refseq/un...</td>\n",
       "      <td>...</td>\n",
       "      <td>g61346_01710</td>\n",
       "      <td>g61347_01675</td>\n",
       "      <td>g61348_01758</td>\n",
       "      <td>g61353_01788</td>\n",
       "      <td>g61354_01744</td>\n",
       "      <td>g61379_01510</td>\n",
       "      <td>g61380_01823</td>\n",
       "      <td>g61381_01605</td>\n",
       "      <td>g61382_01791</td>\n",
       "      <td>g61383_01817</td>\n",
       "    </tr>\n",
       "    <tr>\n",
       "      <th>...</th>\n",
       "      <td>...</td>\n",
       "      <td>...</td>\n",
       "      <td>...</td>\n",
       "      <td>...</td>\n",
       "      <td>...</td>\n",
       "      <td>...</td>\n",
       "      <td>...</td>\n",
       "      <td>...</td>\n",
       "      <td>...</td>\n",
       "      <td>...</td>\n",
       "      <td>...</td>\n",
       "      <td>...</td>\n",
       "      <td>...</td>\n",
       "      <td>...</td>\n",
       "      <td>...</td>\n",
       "      <td>...</td>\n",
       "      <td>...</td>\n",
       "      <td>...</td>\n",
       "      <td>...</td>\n",
       "      <td>...</td>\n",
       "      <td>...</td>\n",
       "    </tr>\n",
       "    <tr>\n",
       "      <th>group_3844</th>\n",
       "      <td>NaN</td>\n",
       "      <td>hypothetical protein</td>\n",
       "      <td>1.0</td>\n",
       "      <td>1.0</td>\n",
       "      <td>1.0</td>\n",
       "      <td>1.0</td>\n",
       "      <td>2817.0</td>\n",
       "      <td>927.0</td>\n",
       "      <td>1.0</td>\n",
       "      <td>NaN</td>\n",
       "      <td>...</td>\n",
       "      <td>NaN</td>\n",
       "      <td>NaN</td>\n",
       "      <td>NaN</td>\n",
       "      <td>NaN</td>\n",
       "      <td>NaN</td>\n",
       "      <td>NaN</td>\n",
       "      <td>NaN</td>\n",
       "      <td>NaN</td>\n",
       "      <td>g61382_00949</td>\n",
       "      <td>NaN</td>\n",
       "    </tr>\n",
       "    <tr>\n",
       "      <th>group_3845</th>\n",
       "      <td>pilE_2</td>\n",
       "      <td>Fimbrial protein</td>\n",
       "      <td>1.0</td>\n",
       "      <td>1.0</td>\n",
       "      <td>1.0</td>\n",
       "      <td>1.0</td>\n",
       "      <td>668.0</td>\n",
       "      <td>2.0</td>\n",
       "      <td>147.0</td>\n",
       "      <td>NaN</td>\n",
       "      <td>...</td>\n",
       "      <td>NaN</td>\n",
       "      <td>NaN</td>\n",
       "      <td>NaN</td>\n",
       "      <td>NaN</td>\n",
       "      <td>NaN</td>\n",
       "      <td>NaN</td>\n",
       "      <td>NaN</td>\n",
       "      <td>NaN</td>\n",
       "      <td>g61382_01677</td>\n",
       "      <td>NaN</td>\n",
       "    </tr>\n",
       "    <tr>\n",
       "      <th>group_3846</th>\n",
       "      <td>pilE_4</td>\n",
       "      <td>Fimbrial protein</td>\n",
       "      <td>1.0</td>\n",
       "      <td>1.0</td>\n",
       "      <td>1.0</td>\n",
       "      <td>1.0</td>\n",
       "      <td>37.0</td>\n",
       "      <td>2.0</td>\n",
       "      <td>519.0</td>\n",
       "      <td>NaN</td>\n",
       "      <td>...</td>\n",
       "      <td>NaN</td>\n",
       "      <td>NaN</td>\n",
       "      <td>NaN</td>\n",
       "      <td>NaN</td>\n",
       "      <td>NaN</td>\n",
       "      <td>NaN</td>\n",
       "      <td>NaN</td>\n",
       "      <td>NaN</td>\n",
       "      <td>g61382_01763</td>\n",
       "      <td>NaN</td>\n",
       "    </tr>\n",
       "    <tr>\n",
       "      <th>group_3847</th>\n",
       "      <td>tbpB_2</td>\n",
       "      <td>Transferrin-binding protein 2</td>\n",
       "      <td>1.0</td>\n",
       "      <td>1.0</td>\n",
       "      <td>1.0</td>\n",
       "      <td>1.0</td>\n",
       "      <td>498.0</td>\n",
       "      <td>873.0</td>\n",
       "      <td>1.0</td>\n",
       "      <td>NaN</td>\n",
       "      <td>...</td>\n",
       "      <td>NaN</td>\n",
       "      <td>NaN</td>\n",
       "      <td>NaN</td>\n",
       "      <td>NaN</td>\n",
       "      <td>NaN</td>\n",
       "      <td>NaN</td>\n",
       "      <td>NaN</td>\n",
       "      <td>NaN</td>\n",
       "      <td>NaN</td>\n",
       "      <td>g61383_01255</td>\n",
       "    </tr>\n",
       "    <tr>\n",
       "      <th>group_3848</th>\n",
       "      <td>pilE1_4</td>\n",
       "      <td>Fimbrial protein</td>\n",
       "      <td>1.0</td>\n",
       "      <td>1.0</td>\n",
       "      <td>1.0</td>\n",
       "      <td>1.0</td>\n",
       "      <td>1323.0</td>\n",
       "      <td>872.0</td>\n",
       "      <td>1.0</td>\n",
       "      <td>NaN</td>\n",
       "      <td>...</td>\n",
       "      <td>NaN</td>\n",
       "      <td>NaN</td>\n",
       "      <td>NaN</td>\n",
       "      <td>NaN</td>\n",
       "      <td>NaN</td>\n",
       "      <td>NaN</td>\n",
       "      <td>NaN</td>\n",
       "      <td>NaN</td>\n",
       "      <td>NaN</td>\n",
       "      <td>g61383_01986</td>\n",
       "    </tr>\n",
       "  </tbody>\n",
       "</table>\n",
       "<p>2452 rows × 432 columns</p>\n",
       "</div>"
      ],
      "text/plain": [
       "           Non-unique Gene name                           Annotation  \\\n",
       "Gene                                                                   \n",
       "group_1034                  NaN  Type IV pilus assembly protein PilM   \n",
       "cysNC                       NaN        Bifunctional enzyme CysN/CysC   \n",
       "group_1277                  NaN               Inner membrane protein   \n",
       "group_1352                  NaN                 hypothetical protein   \n",
       "group_1405                  NaN                 hypothetical protein   \n",
       "...                         ...                                  ...   \n",
       "group_3844                  NaN                 hypothetical protein   \n",
       "group_3845               pilE_2                     Fimbrial protein   \n",
       "group_3846               pilE_4                     Fimbrial protein   \n",
       "group_3847               tbpB_2        Transferrin-binding protein 2   \n",
       "group_3848              pilE1_4                     Fimbrial protein   \n",
       "\n",
       "            No. isolates  No. sequences  Avg sequences per isolate  \\\n",
       "Gene                                                                 \n",
       "group_1034           NaN            NaN                        NaN   \n",
       "cysNC              414.0          414.0                        1.0   \n",
       "group_1277         414.0          414.0                        1.0   \n",
       "group_1352         414.0          414.0                        1.0   \n",
       "group_1405         414.0          414.0                        1.0   \n",
       "...                  ...            ...                        ...   \n",
       "group_3844           1.0            1.0                        1.0   \n",
       "group_3845           1.0            1.0                        1.0   \n",
       "group_3846           1.0            1.0                        1.0   \n",
       "group_3847           1.0            1.0                        1.0   \n",
       "group_3848           1.0            1.0                        1.0   \n",
       "\n",
       "            Genome Fragment  Order within Fragment  Accessory Fragment  \\\n",
       "Gene                                                                     \n",
       "group_1034              NaN                    NaN                 NaN   \n",
       "cysNC                   1.0                 1874.0                52.0   \n",
       "group_1277              1.0                 3035.0                15.0   \n",
       "group_1352              1.0                 2655.0                35.0   \n",
       "group_1405              1.0                  749.0               147.0   \n",
       "...                     ...                    ...                 ...   \n",
       "group_3844              1.0                 2817.0               927.0   \n",
       "group_3845              1.0                  668.0                 2.0   \n",
       "group_3846              1.0                   37.0                 2.0   \n",
       "group_3847              1.0                  498.0               873.0   \n",
       "group_3848              1.0                 1323.0               872.0   \n",
       "\n",
       "            Accessory Order with Fragment  \\\n",
       "Gene                                        \n",
       "group_1034                            NaN   \n",
       "cysNC                                 1.0   \n",
       "group_1277                            3.0   \n",
       "group_1352                            2.0   \n",
       "group_1405                            1.0   \n",
       "...                                   ...   \n",
       "group_3844                            1.0   \n",
       "group_3845                          147.0   \n",
       "group_3846                          519.0   \n",
       "group_3847                            1.0   \n",
       "group_3848                            1.0   \n",
       "\n",
       "                                                           QC  ...  \\\n",
       "Gene                                                           ...   \n",
       "group_1034                                                NaN  ...   \n",
       "cysNC                                                     NaN  ...   \n",
       "group_1277                                                NaN  ...   \n",
       "group_1352                                                NaN  ...   \n",
       "group_1405  Hypothetical protein with no hits to refseq/un...  ...   \n",
       "...                                                       ...  ...   \n",
       "group_3844                                                NaN  ...   \n",
       "group_3845                                                NaN  ...   \n",
       "group_3846                                                NaN  ...   \n",
       "group_3847                                                NaN  ...   \n",
       "group_3848                                                NaN  ...   \n",
       "\n",
       "            61346_KN13_116  61347_05_590_19  61348_08_590_256  \\\n",
       "Gene                                                            \n",
       "group_1034             NaN              NaN               NaN   \n",
       "cysNC         g61346_00669     g61347_00331      g61348_01910   \n",
       "group_1277    g61346_00555     g61347_00650      g61348_00939   \n",
       "group_1352    g61346_01119     g61347_01122      g61348_01062   \n",
       "group_1405    g61346_01710     g61347_01675      g61348_01758   \n",
       "...                    ...              ...               ...   \n",
       "group_3844             NaN              NaN               NaN   \n",
       "group_3845             NaN              NaN               NaN   \n",
       "group_3846             NaN              NaN               NaN   \n",
       "group_3847             NaN              NaN               NaN   \n",
       "group_3848             NaN              NaN               NaN   \n",
       "\n",
       "           61353_IN_09_3875 61354_IN_09_3830   61379_WHO_Z 61380_BEL_10_3  \\\n",
       "Gene                                                                        \n",
       "group_1034              NaN              NaN           NaN            NaN   \n",
       "cysNC          g61353_00249     g61354_00254  g61379_00338   g61380_00227   \n",
       "group_1277     g61353_00454     g61354_00411  g61379_00419   g61380_00572   \n",
       "group_1352     g61353_01108     g61354_01255  g61379_00964   g61380_01286   \n",
       "group_1405     g61353_01788     g61354_01744  g61379_01510   g61380_01823   \n",
       "...                     ...              ...           ...            ...   \n",
       "group_3844              NaN              NaN           NaN            NaN   \n",
       "group_3845              NaN              NaN           NaN            NaN   \n",
       "group_3846              NaN              NaN           NaN            NaN   \n",
       "group_3847              NaN              NaN           NaN            NaN   \n",
       "group_3848              NaN              NaN           NaN            NaN   \n",
       "\n",
       "           61381_989000041 61382_IC_CNR077 61383_IC_15039  \n",
       "Gene                                                       \n",
       "group_1034             NaN             NaN            NaN  \n",
       "cysNC         g61381_00179    g61382_00291   g61383_00205  \n",
       "group_1277    g61381_01673    g61382_00550   g61383_00520  \n",
       "group_1352    g61381_00995    g61382_01220   g61383_01079  \n",
       "group_1405    g61381_01605    g61382_01791   g61383_01817  \n",
       "...                    ...             ...            ...  \n",
       "group_3844             NaN    g61382_00949            NaN  \n",
       "group_3845             NaN    g61382_01677            NaN  \n",
       "group_3846             NaN    g61382_01763            NaN  \n",
       "group_3847             NaN             NaN   g61383_01255  \n",
       "group_3848             NaN             NaN   g61383_01986  \n",
       "\n",
       "[2452 rows x 432 columns]"
      ]
     },
     "execution_count": 89,
     "metadata": {},
     "output_type": "execute_result"
    }
   ],
   "source": [
    "df"
   ]
  },
  {
   "cell_type": "code",
   "execution_count": 90,
   "id": "personal-criticism",
   "metadata": {},
   "outputs": [
    {
     "data": {
      "text/plain": [
       "Index(['Non-unique Gene name', 'Annotation', 'No. isolates', 'No. sequences',\n",
       "       'Avg sequences per isolate', 'Genome Fragment', 'Order within Fragment',\n",
       "       'Accessory Fragment', 'Accessory Order with Fragment', 'QC',\n",
       "       'Min group size nuc', 'Max group size nuc', 'Avg group size nuc'],\n",
       "      dtype='object')"
      ]
     },
     "execution_count": 90,
     "metadata": {},
     "output_type": "execute_result"
    }
   ],
   "source": [
    "cols = [0,1,2,3,4,5,6,7,8,9,10,11,12]\n",
    "df.columns[cols]"
   ]
  },
  {
   "cell_type": "code",
   "execution_count": 91,
   "id": "extended-impossible",
   "metadata": {},
   "outputs": [
    {
     "name": "stderr",
     "output_type": "stream",
     "text": [
      "/tmp/ipykernel_83919/2079327292.py:1: FutureWarning: In a future version of pandas all arguments of DataFrame.drop except for the argument 'labels' will be keyword-only\n",
      "  df.drop(df.columns[cols], 1, inplace=True)\n"
     ]
    }
   ],
   "source": [
    "df.drop(df.columns[cols], 1, inplace=True)\n",
    "gene = df.fillna(0)"
   ]
  },
  {
   "cell_type": "code",
   "execution_count": 92,
   "id": "material-folder",
   "metadata": {},
   "outputs": [],
   "source": [
    "gene = gene.astype(bool).astype(int)\n",
    "gene = gene.rename(columns=lambda x: x.split('_')[0])"
   ]
  },
  {
   "cell_type": "code",
   "execution_count": 93,
   "id": "individual-healing",
   "metadata": {},
   "outputs": [
    {
     "data": {
      "text/html": [
       "<div>\n",
       "<style scoped>\n",
       "    .dataframe tbody tr th:only-of-type {\n",
       "        vertical-align: middle;\n",
       "    }\n",
       "\n",
       "    .dataframe tbody tr th {\n",
       "        vertical-align: top;\n",
       "    }\n",
       "\n",
       "    .dataframe thead th {\n",
       "        text-align: right;\n",
       "    }\n",
       "</style>\n",
       "<table border=\"1\" class=\"dataframe\">\n",
       "  <thead>\n",
       "    <tr style=\"text-align: right;\">\n",
       "      <th>Gene</th>\n",
       "      <th>group_1034</th>\n",
       "      <th>cysNC</th>\n",
       "      <th>group_1277</th>\n",
       "      <th>group_1352</th>\n",
       "      <th>group_1405</th>\n",
       "      <th>group_1784</th>\n",
       "      <th>group_2013</th>\n",
       "      <th>group_2063</th>\n",
       "      <th>folP</th>\n",
       "      <th>group_340</th>\n",
       "      <th>...</th>\n",
       "      <th>group_3839</th>\n",
       "      <th>group_3840</th>\n",
       "      <th>group_3841</th>\n",
       "      <th>group_3842</th>\n",
       "      <th>group_3843</th>\n",
       "      <th>group_3844</th>\n",
       "      <th>group_3845</th>\n",
       "      <th>group_3846</th>\n",
       "      <th>group_3847</th>\n",
       "      <th>group_3848</th>\n",
       "    </tr>\n",
       "  </thead>\n",
       "  <tbody>\n",
       "    <tr>\n",
       "      <th>2855</th>\n",
       "      <td>0</td>\n",
       "      <td>1</td>\n",
       "      <td>1</td>\n",
       "      <td>1</td>\n",
       "      <td>1</td>\n",
       "      <td>1</td>\n",
       "      <td>1</td>\n",
       "      <td>1</td>\n",
       "      <td>1</td>\n",
       "      <td>1</td>\n",
       "      <td>...</td>\n",
       "      <td>0</td>\n",
       "      <td>0</td>\n",
       "      <td>0</td>\n",
       "      <td>0</td>\n",
       "      <td>0</td>\n",
       "      <td>0</td>\n",
       "      <td>0</td>\n",
       "      <td>0</td>\n",
       "      <td>0</td>\n",
       "      <td>0</td>\n",
       "    </tr>\n",
       "    <tr>\n",
       "      <th>13685</th>\n",
       "      <td>0</td>\n",
       "      <td>1</td>\n",
       "      <td>1</td>\n",
       "      <td>1</td>\n",
       "      <td>1</td>\n",
       "      <td>1</td>\n",
       "      <td>1</td>\n",
       "      <td>1</td>\n",
       "      <td>1</td>\n",
       "      <td>1</td>\n",
       "      <td>...</td>\n",
       "      <td>0</td>\n",
       "      <td>0</td>\n",
       "      <td>0</td>\n",
       "      <td>0</td>\n",
       "      <td>0</td>\n",
       "      <td>0</td>\n",
       "      <td>0</td>\n",
       "      <td>0</td>\n",
       "      <td>0</td>\n",
       "      <td>0</td>\n",
       "    </tr>\n",
       "    <tr>\n",
       "      <th>27228</th>\n",
       "      <td>0</td>\n",
       "      <td>0</td>\n",
       "      <td>1</td>\n",
       "      <td>1</td>\n",
       "      <td>1</td>\n",
       "      <td>1</td>\n",
       "      <td>1</td>\n",
       "      <td>1</td>\n",
       "      <td>1</td>\n",
       "      <td>1</td>\n",
       "      <td>...</td>\n",
       "      <td>0</td>\n",
       "      <td>0</td>\n",
       "      <td>0</td>\n",
       "      <td>0</td>\n",
       "      <td>0</td>\n",
       "      <td>0</td>\n",
       "      <td>0</td>\n",
       "      <td>0</td>\n",
       "      <td>0</td>\n",
       "      <td>0</td>\n",
       "    </tr>\n",
       "    <tr>\n",
       "      <th>31457</th>\n",
       "      <td>0</td>\n",
       "      <td>1</td>\n",
       "      <td>1</td>\n",
       "      <td>1</td>\n",
       "      <td>1</td>\n",
       "      <td>1</td>\n",
       "      <td>1</td>\n",
       "      <td>1</td>\n",
       "      <td>1</td>\n",
       "      <td>1</td>\n",
       "      <td>...</td>\n",
       "      <td>0</td>\n",
       "      <td>0</td>\n",
       "      <td>0</td>\n",
       "      <td>0</td>\n",
       "      <td>0</td>\n",
       "      <td>0</td>\n",
       "      <td>0</td>\n",
       "      <td>0</td>\n",
       "      <td>0</td>\n",
       "      <td>0</td>\n",
       "    </tr>\n",
       "    <tr>\n",
       "      <th>31458</th>\n",
       "      <td>0</td>\n",
       "      <td>1</td>\n",
       "      <td>1</td>\n",
       "      <td>1</td>\n",
       "      <td>1</td>\n",
       "      <td>1</td>\n",
       "      <td>1</td>\n",
       "      <td>1</td>\n",
       "      <td>1</td>\n",
       "      <td>1</td>\n",
       "      <td>...</td>\n",
       "      <td>0</td>\n",
       "      <td>0</td>\n",
       "      <td>0</td>\n",
       "      <td>0</td>\n",
       "      <td>0</td>\n",
       "      <td>0</td>\n",
       "      <td>0</td>\n",
       "      <td>0</td>\n",
       "      <td>0</td>\n",
       "      <td>0</td>\n",
       "    </tr>\n",
       "    <tr>\n",
       "      <th>...</th>\n",
       "      <td>...</td>\n",
       "      <td>...</td>\n",
       "      <td>...</td>\n",
       "      <td>...</td>\n",
       "      <td>...</td>\n",
       "      <td>...</td>\n",
       "      <td>...</td>\n",
       "      <td>...</td>\n",
       "      <td>...</td>\n",
       "      <td>...</td>\n",
       "      <td>...</td>\n",
       "      <td>...</td>\n",
       "      <td>...</td>\n",
       "      <td>...</td>\n",
       "      <td>...</td>\n",
       "      <td>...</td>\n",
       "      <td>...</td>\n",
       "      <td>...</td>\n",
       "      <td>...</td>\n",
       "      <td>...</td>\n",
       "      <td>...</td>\n",
       "    </tr>\n",
       "    <tr>\n",
       "      <th>61379</th>\n",
       "      <td>0</td>\n",
       "      <td>1</td>\n",
       "      <td>1</td>\n",
       "      <td>1</td>\n",
       "      <td>1</td>\n",
       "      <td>1</td>\n",
       "      <td>1</td>\n",
       "      <td>1</td>\n",
       "      <td>1</td>\n",
       "      <td>1</td>\n",
       "      <td>...</td>\n",
       "      <td>1</td>\n",
       "      <td>1</td>\n",
       "      <td>1</td>\n",
       "      <td>1</td>\n",
       "      <td>0</td>\n",
       "      <td>0</td>\n",
       "      <td>0</td>\n",
       "      <td>0</td>\n",
       "      <td>0</td>\n",
       "      <td>0</td>\n",
       "    </tr>\n",
       "    <tr>\n",
       "      <th>61380</th>\n",
       "      <td>0</td>\n",
       "      <td>1</td>\n",
       "      <td>1</td>\n",
       "      <td>1</td>\n",
       "      <td>1</td>\n",
       "      <td>1</td>\n",
       "      <td>1</td>\n",
       "      <td>1</td>\n",
       "      <td>1</td>\n",
       "      <td>1</td>\n",
       "      <td>...</td>\n",
       "      <td>0</td>\n",
       "      <td>0</td>\n",
       "      <td>0</td>\n",
       "      <td>0</td>\n",
       "      <td>1</td>\n",
       "      <td>0</td>\n",
       "      <td>0</td>\n",
       "      <td>0</td>\n",
       "      <td>0</td>\n",
       "      <td>0</td>\n",
       "    </tr>\n",
       "    <tr>\n",
       "      <th>61381</th>\n",
       "      <td>0</td>\n",
       "      <td>1</td>\n",
       "      <td>1</td>\n",
       "      <td>1</td>\n",
       "      <td>1</td>\n",
       "      <td>1</td>\n",
       "      <td>1</td>\n",
       "      <td>1</td>\n",
       "      <td>1</td>\n",
       "      <td>1</td>\n",
       "      <td>...</td>\n",
       "      <td>0</td>\n",
       "      <td>0</td>\n",
       "      <td>0</td>\n",
       "      <td>0</td>\n",
       "      <td>0</td>\n",
       "      <td>0</td>\n",
       "      <td>0</td>\n",
       "      <td>0</td>\n",
       "      <td>0</td>\n",
       "      <td>0</td>\n",
       "    </tr>\n",
       "    <tr>\n",
       "      <th>61382</th>\n",
       "      <td>0</td>\n",
       "      <td>1</td>\n",
       "      <td>1</td>\n",
       "      <td>1</td>\n",
       "      <td>1</td>\n",
       "      <td>1</td>\n",
       "      <td>1</td>\n",
       "      <td>1</td>\n",
       "      <td>1</td>\n",
       "      <td>1</td>\n",
       "      <td>...</td>\n",
       "      <td>0</td>\n",
       "      <td>0</td>\n",
       "      <td>0</td>\n",
       "      <td>0</td>\n",
       "      <td>0</td>\n",
       "      <td>1</td>\n",
       "      <td>1</td>\n",
       "      <td>1</td>\n",
       "      <td>0</td>\n",
       "      <td>0</td>\n",
       "    </tr>\n",
       "    <tr>\n",
       "      <th>61383</th>\n",
       "      <td>0</td>\n",
       "      <td>1</td>\n",
       "      <td>1</td>\n",
       "      <td>1</td>\n",
       "      <td>1</td>\n",
       "      <td>1</td>\n",
       "      <td>1</td>\n",
       "      <td>1</td>\n",
       "      <td>1</td>\n",
       "      <td>1</td>\n",
       "      <td>...</td>\n",
       "      <td>0</td>\n",
       "      <td>0</td>\n",
       "      <td>0</td>\n",
       "      <td>0</td>\n",
       "      <td>0</td>\n",
       "      <td>0</td>\n",
       "      <td>0</td>\n",
       "      <td>0</td>\n",
       "      <td>1</td>\n",
       "      <td>1</td>\n",
       "    </tr>\n",
       "  </tbody>\n",
       "</table>\n",
       "<p>419 rows × 2452 columns</p>\n",
       "</div>"
      ],
      "text/plain": [
       "Gene   group_1034  cysNC  group_1277  group_1352  group_1405  group_1784  \\\n",
       "2855            0      1           1           1           1           1   \n",
       "13685           0      1           1           1           1           1   \n",
       "27228           0      0           1           1           1           1   \n",
       "31457           0      1           1           1           1           1   \n",
       "31458           0      1           1           1           1           1   \n",
       "...           ...    ...         ...         ...         ...         ...   \n",
       "61379           0      1           1           1           1           1   \n",
       "61380           0      1           1           1           1           1   \n",
       "61381           0      1           1           1           1           1   \n",
       "61382           0      1           1           1           1           1   \n",
       "61383           0      1           1           1           1           1   \n",
       "\n",
       "Gene   group_2013  group_2063  folP  group_340  ...  group_3839  group_3840  \\\n",
       "2855            1           1     1          1  ...           0           0   \n",
       "13685           1           1     1          1  ...           0           0   \n",
       "27228           1           1     1          1  ...           0           0   \n",
       "31457           1           1     1          1  ...           0           0   \n",
       "31458           1           1     1          1  ...           0           0   \n",
       "...           ...         ...   ...        ...  ...         ...         ...   \n",
       "61379           1           1     1          1  ...           1           1   \n",
       "61380           1           1     1          1  ...           0           0   \n",
       "61381           1           1     1          1  ...           0           0   \n",
       "61382           1           1     1          1  ...           0           0   \n",
       "61383           1           1     1          1  ...           0           0   \n",
       "\n",
       "Gene   group_3841  group_3842  group_3843  group_3844  group_3845  group_3846  \\\n",
       "2855            0           0           0           0           0           0   \n",
       "13685           0           0           0           0           0           0   \n",
       "27228           0           0           0           0           0           0   \n",
       "31457           0           0           0           0           0           0   \n",
       "31458           0           0           0           0           0           0   \n",
       "...           ...         ...         ...         ...         ...         ...   \n",
       "61379           1           1           0           0           0           0   \n",
       "61380           0           0           1           0           0           0   \n",
       "61381           0           0           0           0           0           0   \n",
       "61382           0           0           0           1           1           1   \n",
       "61383           0           0           0           0           0           0   \n",
       "\n",
       "Gene   group_3847  group_3848  \n",
       "2855            0           0  \n",
       "13685           0           0  \n",
       "27228           0           0  \n",
       "31457           0           0  \n",
       "31458           0           0  \n",
       "...           ...         ...  \n",
       "61379           0           0  \n",
       "61380           0           0  \n",
       "61381           0           0  \n",
       "61382           0           0  \n",
       "61383           1           1  \n",
       "\n",
       "[419 rows x 2452 columns]"
      ]
     },
     "execution_count": 93,
     "metadata": {},
     "output_type": "execute_result"
    }
   ],
   "source": [
    "geneT = gene.T.astype(int)\n",
    "geneT"
   ]
  },
  {
   "cell_type": "code",
   "execution_count": 94,
   "id": "industrial-template",
   "metadata": {},
   "outputs": [
    {
     "data": {
      "text/html": [
       "<div>\n",
       "<style scoped>\n",
       "    .dataframe tbody tr th:only-of-type {\n",
       "        vertical-align: middle;\n",
       "    }\n",
       "\n",
       "    .dataframe tbody tr th {\n",
       "        vertical-align: top;\n",
       "    }\n",
       "\n",
       "    .dataframe thead th {\n",
       "        text-align: right;\n",
       "    }\n",
       "</style>\n",
       "<table border=\"1\" class=\"dataframe\">\n",
       "  <thead>\n",
       "    <tr style=\"text-align: right;\">\n",
       "      <th></th>\n",
       "      <th>lineage</th>\n",
       "    </tr>\n",
       "  </thead>\n",
       "  <tbody>\n",
       "    <tr>\n",
       "      <th>2855</th>\n",
       "      <td>1</td>\n",
       "    </tr>\n",
       "    <tr>\n",
       "      <th>13685</th>\n",
       "      <td>1</td>\n",
       "    </tr>\n",
       "    <tr>\n",
       "      <th>27228</th>\n",
       "      <td>1</td>\n",
       "    </tr>\n",
       "    <tr>\n",
       "      <th>31457</th>\n",
       "      <td>1</td>\n",
       "    </tr>\n",
       "    <tr>\n",
       "      <th>31458</th>\n",
       "      <td>1</td>\n",
       "    </tr>\n",
       "    <tr>\n",
       "      <th>...</th>\n",
       "      <td>...</td>\n",
       "    </tr>\n",
       "    <tr>\n",
       "      <th>61379</th>\n",
       "      <td>0</td>\n",
       "    </tr>\n",
       "    <tr>\n",
       "      <th>61380</th>\n",
       "      <td>0</td>\n",
       "    </tr>\n",
       "    <tr>\n",
       "      <th>61381</th>\n",
       "      <td>0</td>\n",
       "    </tr>\n",
       "    <tr>\n",
       "      <th>61382</th>\n",
       "      <td>0</td>\n",
       "    </tr>\n",
       "    <tr>\n",
       "      <th>61383</th>\n",
       "      <td>0</td>\n",
       "    </tr>\n",
       "  </tbody>\n",
       "</table>\n",
       "<p>419 rows × 1 columns</p>\n",
       "</div>"
      ],
      "text/plain": [
       "       lineage\n",
       "2855         1\n",
       "13685        1\n",
       "27228        1\n",
       "31457        1\n",
       "31458        1\n",
       "...        ...\n",
       "61379        0\n",
       "61380        0\n",
       "61381        0\n",
       "61382        0\n",
       "61383        0\n",
       "\n",
       "[419 rows x 1 columns]"
      ]
     },
     "execution_count": 94,
     "metadata": {},
     "output_type": "execute_result"
    }
   ],
   "source": [
    "lineage = pd.read_csv('lineages.csv',sep='\\t', index_col = 0)\n",
    "lineage = lineage.set_index(geneT.index)\n",
    "lineage\n"
   ]
  },
  {
   "cell_type": "code",
   "execution_count": 95,
   "id": "aboriginal-malaysia",
   "metadata": {},
   "outputs": [],
   "source": [
    "from sklearn import preprocessing\n"
   ]
  },
  {
   "cell_type": "code",
   "execution_count": 96,
   "id": "several-shadow",
   "metadata": {},
   "outputs": [],
   "source": [
    "data = geneT.join(lineage)"
   ]
  },
  {
   "cell_type": "code",
   "execution_count": 97,
   "id": "boxed-legend",
   "metadata": {},
   "outputs": [],
   "source": [
    "#data.to_csv('gene_oneHotEncoding.csv')"
   ]
  },
  {
   "cell_type": "code",
   "execution_count": null,
   "id": "rapid-northern",
   "metadata": {},
   "outputs": [],
   "source": []
  },
  {
   "cell_type": "code",
   "execution_count": 98,
   "id": "comparable-gravity",
   "metadata": {},
   "outputs": [
    {
     "data": {
      "text/html": [
       "<div>\n",
       "<style scoped>\n",
       "    .dataframe tbody tr th:only-of-type {\n",
       "        vertical-align: middle;\n",
       "    }\n",
       "\n",
       "    .dataframe tbody tr th {\n",
       "        vertical-align: top;\n",
       "    }\n",
       "\n",
       "    .dataframe thead th {\n",
       "        text-align: right;\n",
       "    }\n",
       "</style>\n",
       "<table border=\"1\" class=\"dataframe\">\n",
       "  <thead>\n",
       "    <tr style=\"text-align: right;\">\n",
       "      <th></th>\n",
       "      <th>group_1034</th>\n",
       "      <th>cysNC</th>\n",
       "      <th>group_1277</th>\n",
       "      <th>group_1352</th>\n",
       "      <th>group_1405</th>\n",
       "      <th>group_1784</th>\n",
       "      <th>group_2013</th>\n",
       "      <th>group_2063</th>\n",
       "      <th>folP</th>\n",
       "      <th>group_340</th>\n",
       "      <th>...</th>\n",
       "      <th>group_3840</th>\n",
       "      <th>group_3841</th>\n",
       "      <th>group_3842</th>\n",
       "      <th>group_3843</th>\n",
       "      <th>group_3844</th>\n",
       "      <th>group_3845</th>\n",
       "      <th>group_3846</th>\n",
       "      <th>group_3847</th>\n",
       "      <th>group_3848</th>\n",
       "      <th>lineage</th>\n",
       "    </tr>\n",
       "  </thead>\n",
       "  <tbody>\n",
       "    <tr>\n",
       "      <th>31966</th>\n",
       "      <td>0</td>\n",
       "      <td>1</td>\n",
       "      <td>1</td>\n",
       "      <td>1</td>\n",
       "      <td>1</td>\n",
       "      <td>1</td>\n",
       "      <td>1</td>\n",
       "      <td>1</td>\n",
       "      <td>1</td>\n",
       "      <td>1</td>\n",
       "      <td>...</td>\n",
       "      <td>0</td>\n",
       "      <td>0</td>\n",
       "      <td>0</td>\n",
       "      <td>0</td>\n",
       "      <td>0</td>\n",
       "      <td>0</td>\n",
       "      <td>0</td>\n",
       "      <td>0</td>\n",
       "      <td>0</td>\n",
       "      <td>0</td>\n",
       "    </tr>\n",
       "    <tr>\n",
       "      <th>31988</th>\n",
       "      <td>0</td>\n",
       "      <td>1</td>\n",
       "      <td>1</td>\n",
       "      <td>1</td>\n",
       "      <td>1</td>\n",
       "      <td>1</td>\n",
       "      <td>1</td>\n",
       "      <td>1</td>\n",
       "      <td>1</td>\n",
       "      <td>1</td>\n",
       "      <td>...</td>\n",
       "      <td>0</td>\n",
       "      <td>0</td>\n",
       "      <td>0</td>\n",
       "      <td>0</td>\n",
       "      <td>0</td>\n",
       "      <td>0</td>\n",
       "      <td>0</td>\n",
       "      <td>0</td>\n",
       "      <td>0</td>\n",
       "      <td>0</td>\n",
       "    </tr>\n",
       "    <tr>\n",
       "      <th>31791</th>\n",
       "      <td>0</td>\n",
       "      <td>1</td>\n",
       "      <td>1</td>\n",
       "      <td>1</td>\n",
       "      <td>1</td>\n",
       "      <td>1</td>\n",
       "      <td>1</td>\n",
       "      <td>1</td>\n",
       "      <td>1</td>\n",
       "      <td>1</td>\n",
       "      <td>...</td>\n",
       "      <td>0</td>\n",
       "      <td>0</td>\n",
       "      <td>0</td>\n",
       "      <td>0</td>\n",
       "      <td>0</td>\n",
       "      <td>0</td>\n",
       "      <td>0</td>\n",
       "      <td>0</td>\n",
       "      <td>0</td>\n",
       "      <td>0</td>\n",
       "    </tr>\n",
       "    <tr>\n",
       "      <th>31634</th>\n",
       "      <td>0</td>\n",
       "      <td>1</td>\n",
       "      <td>1</td>\n",
       "      <td>1</td>\n",
       "      <td>1</td>\n",
       "      <td>1</td>\n",
       "      <td>1</td>\n",
       "      <td>1</td>\n",
       "      <td>1</td>\n",
       "      <td>1</td>\n",
       "      <td>...</td>\n",
       "      <td>0</td>\n",
       "      <td>0</td>\n",
       "      <td>0</td>\n",
       "      <td>0</td>\n",
       "      <td>0</td>\n",
       "      <td>0</td>\n",
       "      <td>0</td>\n",
       "      <td>0</td>\n",
       "      <td>0</td>\n",
       "      <td>1</td>\n",
       "    </tr>\n",
       "    <tr>\n",
       "      <th>31729</th>\n",
       "      <td>0</td>\n",
       "      <td>1</td>\n",
       "      <td>1</td>\n",
       "      <td>1</td>\n",
       "      <td>1</td>\n",
       "      <td>1</td>\n",
       "      <td>1</td>\n",
       "      <td>1</td>\n",
       "      <td>1</td>\n",
       "      <td>1</td>\n",
       "      <td>...</td>\n",
       "      <td>0</td>\n",
       "      <td>0</td>\n",
       "      <td>0</td>\n",
       "      <td>0</td>\n",
       "      <td>0</td>\n",
       "      <td>0</td>\n",
       "      <td>0</td>\n",
       "      <td>0</td>\n",
       "      <td>0</td>\n",
       "      <td>1</td>\n",
       "    </tr>\n",
       "  </tbody>\n",
       "</table>\n",
       "<p>5 rows × 2453 columns</p>\n",
       "</div>"
      ],
      "text/plain": [
       "       group_1034  cysNC  group_1277  group_1352  group_1405  group_1784  \\\n",
       "31966           0      1           1           1           1           1   \n",
       "31988           0      1           1           1           1           1   \n",
       "31791           0      1           1           1           1           1   \n",
       "31634           0      1           1           1           1           1   \n",
       "31729           0      1           1           1           1           1   \n",
       "\n",
       "       group_2013  group_2063  folP  group_340  ...  group_3840  group_3841  \\\n",
       "31966           1           1     1          1  ...           0           0   \n",
       "31988           1           1     1          1  ...           0           0   \n",
       "31791           1           1     1          1  ...           0           0   \n",
       "31634           1           1     1          1  ...           0           0   \n",
       "31729           1           1     1          1  ...           0           0   \n",
       "\n",
       "       group_3842  group_3843  group_3844  group_3845  group_3846  group_3847  \\\n",
       "31966           0           0           0           0           0           0   \n",
       "31988           0           0           0           0           0           0   \n",
       "31791           0           0           0           0           0           0   \n",
       "31634           0           0           0           0           0           0   \n",
       "31729           0           0           0           0           0           0   \n",
       "\n",
       "       group_3848  lineage  \n",
       "31966           0        0  \n",
       "31988           0        0  \n",
       "31791           0        0  \n",
       "31634           0        1  \n",
       "31729           0        1  \n",
       "\n",
       "[5 rows x 2453 columns]"
      ]
     },
     "execution_count": 98,
     "metadata": {},
     "output_type": "execute_result"
    }
   ],
   "source": [
    "from sklearn.model_selection import train_test_split\n",
    "train, test = train_test_split(data, test_size = 0.2)\n",
    "train.head()"
   ]
  },
  {
   "cell_type": "code",
   "execution_count": 99,
   "id": "national-strike",
   "metadata": {},
   "outputs": [],
   "source": [
    "X_train = train.iloc[:,:2452].to_numpy()\n",
    "X_test = test.iloc[:,:2452].to_numpy()"
   ]
  },
  {
   "cell_type": "code",
   "execution_count": 100,
   "id": "provincial-genealogy",
   "metadata": {},
   "outputs": [],
   "source": [
    "X_train_norm = preprocessing.normalize(X_train, norm='l2')\n",
    "X_test_norm = preprocessing.normalize(X_test, norm='l2')"
   ]
  },
  {
   "cell_type": "code",
   "execution_count": 101,
   "id": "every-administrator",
   "metadata": {},
   "outputs": [],
   "source": [
    "y_train = train['lineage'].to_numpy()\n",
    "y_test = test['lineage'].to_numpy()"
   ]
  },
  {
   "cell_type": "code",
   "execution_count": 102,
   "id": "rapid-proposal",
   "metadata": {},
   "outputs": [
    {
     "data": {
      "text/plain": [
       "SVC(kernel='linear')"
      ]
     },
     "execution_count": 102,
     "metadata": {},
     "output_type": "execute_result"
    }
   ],
   "source": [
    "linear_svc = svm.SVC(kernel='linear')\n",
    "linear_svc.fit(X_train_norm, y_train)"
   ]
  },
  {
   "cell_type": "code",
   "execution_count": null,
   "id": "aging-applicant",
   "metadata": {},
   "outputs": [],
   "source": []
  },
  {
   "cell_type": "code",
   "execution_count": 103,
   "id": "strategic-safety",
   "metadata": {},
   "outputs": [],
   "source": [
    "y_pred = linear_svc.predict(X_test_norm)"
   ]
  },
  {
   "cell_type": "code",
   "execution_count": 104,
   "id": "forty-sport",
   "metadata": {},
   "outputs": [
    {
     "data": {
      "text/plain": [
       "array([1, 1, 1, 1, 1, 0, 1, 1, 1, 1, 0, 1, 0, 1, 1, 0, 1, 1, 1, 1, 0, 0,\n",
       "       1, 0, 0, 1, 1, 1, 1, 1, 0, 0, 1, 0, 1, 1, 1, 0, 1, 0, 1, 0, 0, 0,\n",
       "       1, 1, 1, 0, 1, 0, 1, 1, 1, 1, 1, 0, 1, 1, 1, 0, 1, 1, 0, 1, 0, 0,\n",
       "       0, 0, 1, 1, 0, 1, 1, 0, 1, 0, 0, 1, 1, 1, 1, 1, 1, 1])"
      ]
     },
     "execution_count": 104,
     "metadata": {},
     "output_type": "execute_result"
    }
   ],
   "source": [
    "y_test"
   ]
  },
  {
   "cell_type": "code",
   "execution_count": 105,
   "id": "hungarian-collins",
   "metadata": {},
   "outputs": [
    {
     "data": {
      "text/plain": [
       "array([[ 8, 21],\n",
       "       [ 2, 53]])"
      ]
     },
     "execution_count": 105,
     "metadata": {},
     "output_type": "execute_result"
    }
   ],
   "source": [
    "\n",
    "metrics.confusion_matrix(y_test, y_pred)"
   ]
  },
  {
   "cell_type": "code",
   "execution_count": 106,
   "id": "incredible-proposition",
   "metadata": {},
   "outputs": [
    {
     "data": {
      "text/plain": [
       "0.7261904761904762"
      ]
     },
     "execution_count": 106,
     "metadata": {},
     "output_type": "execute_result"
    }
   ],
   "source": [
    "metrics.accuracy_score(y_test, y_pred)"
   ]
  },
  {
   "cell_type": "code",
   "execution_count": 107,
   "id": "olive-norwegian",
   "metadata": {},
   "outputs": [
    {
     "data": {
      "text/plain": [
       "2452"
      ]
     },
     "execution_count": 107,
     "metadata": {},
     "output_type": "execute_result"
    }
   ],
   "source": [
    "len(geneT.columns)"
   ]
  },
  {
   "cell_type": "code",
   "execution_count": 22,
   "id": "considered-submission",
   "metadata": {},
   "outputs": [],
   "source": [
    "def f_importances(coef, names,top=-1):\n",
    "    imp = coef\n",
    "    imp,names = zip(*sorted(list(zip(imp,names))))\n",
    "     # Show all features\n",
    "    if top == -1:\n",
    "        top = len(names)\n",
    "    plt.barh(range(top), imp[::-1][0:top], align='center')\n",
    "    plt.yticks(range(top),  names[::-1][0:top])\n",
    "    plt.show()\n",
    "\n",
    "features_names = geneT.columns\n",
    "\n"
   ]
  },
  {
   "cell_type": "code",
   "execution_count": 23,
   "id": "exceptional-neutral",
   "metadata": {},
   "outputs": [
    {
     "ename": "KeyboardInterrupt",
     "evalue": "",
     "output_type": "error",
     "traceback": [
      "\u001b[0;31m---------------------------------------------------------------------------\u001b[0m",
      "\u001b[0;31mKeyboardInterrupt\u001b[0m                         Traceback (most recent call last)",
      "\u001b[0;32m/tmp/ipykernel_83919/2100911715.py\u001b[0m in \u001b[0;36m<module>\u001b[0;34m\u001b[0m\n\u001b[1;32m      7\u001b[0m \u001b[0msvc_rbf\u001b[0m\u001b[0;34m.\u001b[0m\u001b[0mfit\u001b[0m\u001b[0;34m(\u001b[0m\u001b[0mX_train\u001b[0m\u001b[0;34m,\u001b[0m \u001b[0my_train\u001b[0m\u001b[0;34m)\u001b[0m\u001b[0;34m\u001b[0m\u001b[0;34m\u001b[0m\u001b[0m\n\u001b[1;32m      8\u001b[0m \u001b[0;34m\u001b[0m\u001b[0m\n\u001b[0;32m----> 9\u001b[0;31m \u001b[0mperm_importance\u001b[0m \u001b[0;34m=\u001b[0m \u001b[0mpermutation_importance\u001b[0m\u001b[0;34m(\u001b[0m\u001b[0msvc_rbf\u001b[0m\u001b[0;34m,\u001b[0m \u001b[0mX_test\u001b[0m\u001b[0;34m,\u001b[0m \u001b[0my_test\u001b[0m\u001b[0;34m)\u001b[0m\u001b[0;34m\u001b[0m\u001b[0;34m\u001b[0m\u001b[0m\n\u001b[0m\u001b[1;32m     10\u001b[0m \u001b[0;34m\u001b[0m\u001b[0m\n\u001b[1;32m     11\u001b[0m \u001b[0mfeatures\u001b[0m \u001b[0;34m=\u001b[0m \u001b[0mnp\u001b[0m\u001b[0;34m.\u001b[0m\u001b[0marray\u001b[0m\u001b[0;34m(\u001b[0m\u001b[0mfeatures_names\u001b[0m\u001b[0;34m)\u001b[0m\u001b[0;34m\u001b[0m\u001b[0;34m\u001b[0m\u001b[0m\n",
      "\u001b[0;32m~/.conda/envs/torchGeoM/lib/python3.9/site-packages/sklearn/inspection/_permutation_importance.py\u001b[0m in \u001b[0;36mpermutation_importance\u001b[0;34m(estimator, X, y, scoring, n_repeats, n_jobs, random_state, sample_weight, max_samples)\u001b[0m\n\u001b[1;32m    257\u001b[0m     \u001b[0mbaseline_score\u001b[0m \u001b[0;34m=\u001b[0m \u001b[0m_weights_scorer\u001b[0m\u001b[0;34m(\u001b[0m\u001b[0mscorer\u001b[0m\u001b[0;34m,\u001b[0m \u001b[0mestimator\u001b[0m\u001b[0;34m,\u001b[0m \u001b[0mX\u001b[0m\u001b[0;34m,\u001b[0m \u001b[0my\u001b[0m\u001b[0;34m,\u001b[0m \u001b[0msample_weight\u001b[0m\u001b[0;34m)\u001b[0m\u001b[0;34m\u001b[0m\u001b[0;34m\u001b[0m\u001b[0m\n\u001b[1;32m    258\u001b[0m \u001b[0;34m\u001b[0m\u001b[0m\n\u001b[0;32m--> 259\u001b[0;31m     scores = Parallel(n_jobs=n_jobs)(\n\u001b[0m\u001b[1;32m    260\u001b[0m         delayed(_calculate_permutation_scores)(\n\u001b[1;32m    261\u001b[0m             \u001b[0mestimator\u001b[0m\u001b[0;34m,\u001b[0m\u001b[0;34m\u001b[0m\u001b[0;34m\u001b[0m\u001b[0m\n",
      "\u001b[0;32m~/.conda/envs/torchGeoM/lib/python3.9/site-packages/joblib/parallel.py\u001b[0m in \u001b[0;36m__call__\u001b[0;34m(self, iterable)\u001b[0m\n\u001b[1;32m   1044\u001b[0m                 \u001b[0mself\u001b[0m\u001b[0;34m.\u001b[0m\u001b[0m_iterating\u001b[0m \u001b[0;34m=\u001b[0m \u001b[0mself\u001b[0m\u001b[0;34m.\u001b[0m\u001b[0m_original_iterator\u001b[0m \u001b[0;32mis\u001b[0m \u001b[0;32mnot\u001b[0m \u001b[0;32mNone\u001b[0m\u001b[0;34m\u001b[0m\u001b[0;34m\u001b[0m\u001b[0m\n\u001b[1;32m   1045\u001b[0m \u001b[0;34m\u001b[0m\u001b[0m\n\u001b[0;32m-> 1046\u001b[0;31m             \u001b[0;32mwhile\u001b[0m \u001b[0mself\u001b[0m\u001b[0;34m.\u001b[0m\u001b[0mdispatch_one_batch\u001b[0m\u001b[0;34m(\u001b[0m\u001b[0miterator\u001b[0m\u001b[0;34m)\u001b[0m\u001b[0;34m:\u001b[0m\u001b[0;34m\u001b[0m\u001b[0;34m\u001b[0m\u001b[0m\n\u001b[0m\u001b[1;32m   1047\u001b[0m                 \u001b[0;32mpass\u001b[0m\u001b[0;34m\u001b[0m\u001b[0;34m\u001b[0m\u001b[0m\n\u001b[1;32m   1048\u001b[0m \u001b[0;34m\u001b[0m\u001b[0m\n",
      "\u001b[0;32m~/.conda/envs/torchGeoM/lib/python3.9/site-packages/joblib/parallel.py\u001b[0m in \u001b[0;36mdispatch_one_batch\u001b[0;34m(self, iterator)\u001b[0m\n\u001b[1;32m    859\u001b[0m                 \u001b[0;32mreturn\u001b[0m \u001b[0;32mFalse\u001b[0m\u001b[0;34m\u001b[0m\u001b[0;34m\u001b[0m\u001b[0m\n\u001b[1;32m    860\u001b[0m             \u001b[0;32melse\u001b[0m\u001b[0;34m:\u001b[0m\u001b[0;34m\u001b[0m\u001b[0;34m\u001b[0m\u001b[0m\n\u001b[0;32m--> 861\u001b[0;31m                 \u001b[0mself\u001b[0m\u001b[0;34m.\u001b[0m\u001b[0m_dispatch\u001b[0m\u001b[0;34m(\u001b[0m\u001b[0mtasks\u001b[0m\u001b[0;34m)\u001b[0m\u001b[0;34m\u001b[0m\u001b[0;34m\u001b[0m\u001b[0m\n\u001b[0m\u001b[1;32m    862\u001b[0m                 \u001b[0;32mreturn\u001b[0m \u001b[0;32mTrue\u001b[0m\u001b[0;34m\u001b[0m\u001b[0;34m\u001b[0m\u001b[0m\n\u001b[1;32m    863\u001b[0m \u001b[0;34m\u001b[0m\u001b[0m\n",
      "\u001b[0;32m~/.conda/envs/torchGeoM/lib/python3.9/site-packages/joblib/parallel.py\u001b[0m in \u001b[0;36m_dispatch\u001b[0;34m(self, batch)\u001b[0m\n\u001b[1;32m    777\u001b[0m         \u001b[0;32mwith\u001b[0m \u001b[0mself\u001b[0m\u001b[0;34m.\u001b[0m\u001b[0m_lock\u001b[0m\u001b[0;34m:\u001b[0m\u001b[0;34m\u001b[0m\u001b[0;34m\u001b[0m\u001b[0m\n\u001b[1;32m    778\u001b[0m             \u001b[0mjob_idx\u001b[0m \u001b[0;34m=\u001b[0m \u001b[0mlen\u001b[0m\u001b[0;34m(\u001b[0m\u001b[0mself\u001b[0m\u001b[0;34m.\u001b[0m\u001b[0m_jobs\u001b[0m\u001b[0;34m)\u001b[0m\u001b[0;34m\u001b[0m\u001b[0;34m\u001b[0m\u001b[0m\n\u001b[0;32m--> 779\u001b[0;31m             \u001b[0mjob\u001b[0m \u001b[0;34m=\u001b[0m \u001b[0mself\u001b[0m\u001b[0;34m.\u001b[0m\u001b[0m_backend\u001b[0m\u001b[0;34m.\u001b[0m\u001b[0mapply_async\u001b[0m\u001b[0;34m(\u001b[0m\u001b[0mbatch\u001b[0m\u001b[0;34m,\u001b[0m \u001b[0mcallback\u001b[0m\u001b[0;34m=\u001b[0m\u001b[0mcb\u001b[0m\u001b[0;34m)\u001b[0m\u001b[0;34m\u001b[0m\u001b[0;34m\u001b[0m\u001b[0m\n\u001b[0m\u001b[1;32m    780\u001b[0m             \u001b[0;31m# A job can complete so quickly than its callback is\u001b[0m\u001b[0;34m\u001b[0m\u001b[0;34m\u001b[0m\u001b[0m\n\u001b[1;32m    781\u001b[0m             \u001b[0;31m# called before we get here, causing self._jobs to\u001b[0m\u001b[0;34m\u001b[0m\u001b[0;34m\u001b[0m\u001b[0m\n",
      "\u001b[0;32m~/.conda/envs/torchGeoM/lib/python3.9/site-packages/joblib/_parallel_backends.py\u001b[0m in \u001b[0;36mapply_async\u001b[0;34m(self, func, callback)\u001b[0m\n\u001b[1;32m    206\u001b[0m     \u001b[0;32mdef\u001b[0m \u001b[0mapply_async\u001b[0m\u001b[0;34m(\u001b[0m\u001b[0mself\u001b[0m\u001b[0;34m,\u001b[0m \u001b[0mfunc\u001b[0m\u001b[0;34m,\u001b[0m \u001b[0mcallback\u001b[0m\u001b[0;34m=\u001b[0m\u001b[0;32mNone\u001b[0m\u001b[0;34m)\u001b[0m\u001b[0;34m:\u001b[0m\u001b[0;34m\u001b[0m\u001b[0;34m\u001b[0m\u001b[0m\n\u001b[1;32m    207\u001b[0m         \u001b[0;34m\"\"\"Schedule a func to be run\"\"\"\u001b[0m\u001b[0;34m\u001b[0m\u001b[0;34m\u001b[0m\u001b[0m\n\u001b[0;32m--> 208\u001b[0;31m         \u001b[0mresult\u001b[0m \u001b[0;34m=\u001b[0m \u001b[0mImmediateResult\u001b[0m\u001b[0;34m(\u001b[0m\u001b[0mfunc\u001b[0m\u001b[0;34m)\u001b[0m\u001b[0;34m\u001b[0m\u001b[0;34m\u001b[0m\u001b[0m\n\u001b[0m\u001b[1;32m    209\u001b[0m         \u001b[0;32mif\u001b[0m \u001b[0mcallback\u001b[0m\u001b[0;34m:\u001b[0m\u001b[0;34m\u001b[0m\u001b[0;34m\u001b[0m\u001b[0m\n\u001b[1;32m    210\u001b[0m             \u001b[0mcallback\u001b[0m\u001b[0;34m(\u001b[0m\u001b[0mresult\u001b[0m\u001b[0;34m)\u001b[0m\u001b[0;34m\u001b[0m\u001b[0;34m\u001b[0m\u001b[0m\n",
      "\u001b[0;32m~/.conda/envs/torchGeoM/lib/python3.9/site-packages/joblib/_parallel_backends.py\u001b[0m in \u001b[0;36m__init__\u001b[0;34m(self, batch)\u001b[0m\n\u001b[1;32m    570\u001b[0m         \u001b[0;31m# Don't delay the application, to avoid keeping the input\u001b[0m\u001b[0;34m\u001b[0m\u001b[0;34m\u001b[0m\u001b[0m\n\u001b[1;32m    571\u001b[0m         \u001b[0;31m# arguments in memory\u001b[0m\u001b[0;34m\u001b[0m\u001b[0;34m\u001b[0m\u001b[0m\n\u001b[0;32m--> 572\u001b[0;31m         \u001b[0mself\u001b[0m\u001b[0;34m.\u001b[0m\u001b[0mresults\u001b[0m \u001b[0;34m=\u001b[0m \u001b[0mbatch\u001b[0m\u001b[0;34m(\u001b[0m\u001b[0;34m)\u001b[0m\u001b[0;34m\u001b[0m\u001b[0;34m\u001b[0m\u001b[0m\n\u001b[0m\u001b[1;32m    573\u001b[0m \u001b[0;34m\u001b[0m\u001b[0m\n\u001b[1;32m    574\u001b[0m     \u001b[0;32mdef\u001b[0m \u001b[0mget\u001b[0m\u001b[0;34m(\u001b[0m\u001b[0mself\u001b[0m\u001b[0;34m)\u001b[0m\u001b[0;34m:\u001b[0m\u001b[0;34m\u001b[0m\u001b[0;34m\u001b[0m\u001b[0m\n",
      "\u001b[0;32m~/.conda/envs/torchGeoM/lib/python3.9/site-packages/joblib/parallel.py\u001b[0m in \u001b[0;36m__call__\u001b[0;34m(self)\u001b[0m\n\u001b[1;32m    260\u001b[0m         \u001b[0;31m# change the default number of processes to -1\u001b[0m\u001b[0;34m\u001b[0m\u001b[0;34m\u001b[0m\u001b[0m\n\u001b[1;32m    261\u001b[0m         \u001b[0;32mwith\u001b[0m \u001b[0mparallel_backend\u001b[0m\u001b[0;34m(\u001b[0m\u001b[0mself\u001b[0m\u001b[0;34m.\u001b[0m\u001b[0m_backend\u001b[0m\u001b[0;34m,\u001b[0m \u001b[0mn_jobs\u001b[0m\u001b[0;34m=\u001b[0m\u001b[0mself\u001b[0m\u001b[0;34m.\u001b[0m\u001b[0m_n_jobs\u001b[0m\u001b[0;34m)\u001b[0m\u001b[0;34m:\u001b[0m\u001b[0;34m\u001b[0m\u001b[0;34m\u001b[0m\u001b[0m\n\u001b[0;32m--> 262\u001b[0;31m             return [func(*args, **kwargs)\n\u001b[0m\u001b[1;32m    263\u001b[0m                     for func, args, kwargs in self.items]\n\u001b[1;32m    264\u001b[0m \u001b[0;34m\u001b[0m\u001b[0m\n",
      "\u001b[0;32m~/.conda/envs/torchGeoM/lib/python3.9/site-packages/joblib/parallel.py\u001b[0m in \u001b[0;36m<listcomp>\u001b[0;34m(.0)\u001b[0m\n\u001b[1;32m    260\u001b[0m         \u001b[0;31m# change the default number of processes to -1\u001b[0m\u001b[0;34m\u001b[0m\u001b[0;34m\u001b[0m\u001b[0m\n\u001b[1;32m    261\u001b[0m         \u001b[0;32mwith\u001b[0m \u001b[0mparallel_backend\u001b[0m\u001b[0;34m(\u001b[0m\u001b[0mself\u001b[0m\u001b[0;34m.\u001b[0m\u001b[0m_backend\u001b[0m\u001b[0;34m,\u001b[0m \u001b[0mn_jobs\u001b[0m\u001b[0;34m=\u001b[0m\u001b[0mself\u001b[0m\u001b[0;34m.\u001b[0m\u001b[0m_n_jobs\u001b[0m\u001b[0;34m)\u001b[0m\u001b[0;34m:\u001b[0m\u001b[0;34m\u001b[0m\u001b[0;34m\u001b[0m\u001b[0m\n\u001b[0;32m--> 262\u001b[0;31m             return [func(*args, **kwargs)\n\u001b[0m\u001b[1;32m    263\u001b[0m                     for func, args, kwargs in self.items]\n\u001b[1;32m    264\u001b[0m \u001b[0;34m\u001b[0m\u001b[0m\n",
      "\u001b[0;32m~/.conda/envs/torchGeoM/lib/python3.9/site-packages/sklearn/utils/fixes.py\u001b[0m in \u001b[0;36m__call__\u001b[0;34m(self, *args, **kwargs)\u001b[0m\n\u001b[1;32m    209\u001b[0m     \u001b[0;32mdef\u001b[0m \u001b[0m__call__\u001b[0m\u001b[0;34m(\u001b[0m\u001b[0mself\u001b[0m\u001b[0;34m,\u001b[0m \u001b[0;34m*\u001b[0m\u001b[0margs\u001b[0m\u001b[0;34m,\u001b[0m \u001b[0;34m**\u001b[0m\u001b[0mkwargs\u001b[0m\u001b[0;34m)\u001b[0m\u001b[0;34m:\u001b[0m\u001b[0;34m\u001b[0m\u001b[0;34m\u001b[0m\u001b[0m\n\u001b[1;32m    210\u001b[0m         \u001b[0;32mwith\u001b[0m \u001b[0mconfig_context\u001b[0m\u001b[0;34m(\u001b[0m\u001b[0;34m**\u001b[0m\u001b[0mself\u001b[0m\u001b[0;34m.\u001b[0m\u001b[0mconfig\u001b[0m\u001b[0;34m)\u001b[0m\u001b[0;34m:\u001b[0m\u001b[0;34m\u001b[0m\u001b[0;34m\u001b[0m\u001b[0m\n\u001b[0;32m--> 211\u001b[0;31m             \u001b[0;32mreturn\u001b[0m \u001b[0mself\u001b[0m\u001b[0;34m.\u001b[0m\u001b[0mfunction\u001b[0m\u001b[0;34m(\u001b[0m\u001b[0;34m*\u001b[0m\u001b[0margs\u001b[0m\u001b[0;34m,\u001b[0m \u001b[0;34m**\u001b[0m\u001b[0mkwargs\u001b[0m\u001b[0;34m)\u001b[0m\u001b[0;34m\u001b[0m\u001b[0;34m\u001b[0m\u001b[0m\n\u001b[0m\u001b[1;32m    212\u001b[0m \u001b[0;34m\u001b[0m\u001b[0m\n\u001b[1;32m    213\u001b[0m \u001b[0;34m\u001b[0m\u001b[0m\n",
      "\u001b[0;32m~/.conda/envs/torchGeoM/lib/python3.9/site-packages/sklearn/inspection/_permutation_importance.py\u001b[0m in \u001b[0;36m_calculate_permutation_scores\u001b[0;34m(estimator, X, y, sample_weight, col_idx, random_state, n_repeats, scorer, max_samples)\u001b[0m\n\u001b[1;32m     62\u001b[0m         \u001b[0;32melse\u001b[0m\u001b[0;34m:\u001b[0m\u001b[0;34m\u001b[0m\u001b[0;34m\u001b[0m\u001b[0m\n\u001b[1;32m     63\u001b[0m             \u001b[0mX_permuted\u001b[0m\u001b[0;34m[\u001b[0m\u001b[0;34m:\u001b[0m\u001b[0;34m,\u001b[0m \u001b[0mcol_idx\u001b[0m\u001b[0;34m]\u001b[0m \u001b[0;34m=\u001b[0m \u001b[0mX_permuted\u001b[0m\u001b[0;34m[\u001b[0m\u001b[0mshuffling_idx\u001b[0m\u001b[0;34m,\u001b[0m \u001b[0mcol_idx\u001b[0m\u001b[0;34m]\u001b[0m\u001b[0;34m\u001b[0m\u001b[0;34m\u001b[0m\u001b[0m\n\u001b[0;32m---> 64\u001b[0;31m         \u001b[0mscores\u001b[0m\u001b[0;34m.\u001b[0m\u001b[0mappend\u001b[0m\u001b[0;34m(\u001b[0m\u001b[0m_weights_scorer\u001b[0m\u001b[0;34m(\u001b[0m\u001b[0mscorer\u001b[0m\u001b[0;34m,\u001b[0m \u001b[0mestimator\u001b[0m\u001b[0;34m,\u001b[0m \u001b[0mX_permuted\u001b[0m\u001b[0;34m,\u001b[0m \u001b[0my\u001b[0m\u001b[0;34m,\u001b[0m \u001b[0msample_weight\u001b[0m\u001b[0;34m)\u001b[0m\u001b[0;34m)\u001b[0m\u001b[0;34m\u001b[0m\u001b[0;34m\u001b[0m\u001b[0m\n\u001b[0m\u001b[1;32m     65\u001b[0m \u001b[0;34m\u001b[0m\u001b[0m\n\u001b[1;32m     66\u001b[0m     \u001b[0;32mif\u001b[0m \u001b[0misinstance\u001b[0m\u001b[0;34m(\u001b[0m\u001b[0mscores\u001b[0m\u001b[0;34m[\u001b[0m\u001b[0;36m0\u001b[0m\u001b[0;34m]\u001b[0m\u001b[0;34m,\u001b[0m \u001b[0mdict\u001b[0m\u001b[0;34m)\u001b[0m\u001b[0;34m:\u001b[0m\u001b[0;34m\u001b[0m\u001b[0;34m\u001b[0m\u001b[0m\n",
      "\u001b[0;32m~/.conda/envs/torchGeoM/lib/python3.9/site-packages/sklearn/inspection/_permutation_importance.py\u001b[0m in \u001b[0;36m_weights_scorer\u001b[0;34m(scorer, estimator, X, y, sample_weight)\u001b[0m\n\u001b[1;32m     17\u001b[0m     \u001b[0;32mif\u001b[0m \u001b[0msample_weight\u001b[0m \u001b[0;32mis\u001b[0m \u001b[0;32mnot\u001b[0m \u001b[0;32mNone\u001b[0m\u001b[0;34m:\u001b[0m\u001b[0;34m\u001b[0m\u001b[0;34m\u001b[0m\u001b[0m\n\u001b[1;32m     18\u001b[0m         \u001b[0;32mreturn\u001b[0m \u001b[0mscorer\u001b[0m\u001b[0;34m(\u001b[0m\u001b[0mestimator\u001b[0m\u001b[0;34m,\u001b[0m \u001b[0mX\u001b[0m\u001b[0;34m,\u001b[0m \u001b[0my\u001b[0m\u001b[0;34m,\u001b[0m \u001b[0msample_weight\u001b[0m\u001b[0;34m)\u001b[0m\u001b[0;34m\u001b[0m\u001b[0;34m\u001b[0m\u001b[0m\n\u001b[0;32m---> 19\u001b[0;31m     \u001b[0;32mreturn\u001b[0m \u001b[0mscorer\u001b[0m\u001b[0;34m(\u001b[0m\u001b[0mestimator\u001b[0m\u001b[0;34m,\u001b[0m \u001b[0mX\u001b[0m\u001b[0;34m,\u001b[0m \u001b[0my\u001b[0m\u001b[0;34m)\u001b[0m\u001b[0;34m\u001b[0m\u001b[0;34m\u001b[0m\u001b[0m\n\u001b[0m\u001b[1;32m     20\u001b[0m \u001b[0;34m\u001b[0m\u001b[0m\n\u001b[1;32m     21\u001b[0m \u001b[0;34m\u001b[0m\u001b[0m\n",
      "\u001b[0;32m~/.conda/envs/torchGeoM/lib/python3.9/site-packages/sklearn/metrics/_scorer.py\u001b[0m in \u001b[0;36m_passthrough_scorer\u001b[0;34m(estimator, *args, **kwargs)\u001b[0m\n\u001b[1;32m    416\u001b[0m \u001b[0;32mdef\u001b[0m \u001b[0m_passthrough_scorer\u001b[0m\u001b[0;34m(\u001b[0m\u001b[0mestimator\u001b[0m\u001b[0;34m,\u001b[0m \u001b[0;34m*\u001b[0m\u001b[0margs\u001b[0m\u001b[0;34m,\u001b[0m \u001b[0;34m**\u001b[0m\u001b[0mkwargs\u001b[0m\u001b[0;34m)\u001b[0m\u001b[0;34m:\u001b[0m\u001b[0;34m\u001b[0m\u001b[0;34m\u001b[0m\u001b[0m\n\u001b[1;32m    417\u001b[0m     \u001b[0;34m\"\"\"Function that wraps estimator.score\"\"\"\u001b[0m\u001b[0;34m\u001b[0m\u001b[0;34m\u001b[0m\u001b[0m\n\u001b[0;32m--> 418\u001b[0;31m     \u001b[0;32mreturn\u001b[0m \u001b[0mestimator\u001b[0m\u001b[0;34m.\u001b[0m\u001b[0mscore\u001b[0m\u001b[0;34m(\u001b[0m\u001b[0;34m*\u001b[0m\u001b[0margs\u001b[0m\u001b[0;34m,\u001b[0m \u001b[0;34m**\u001b[0m\u001b[0mkwargs\u001b[0m\u001b[0;34m)\u001b[0m\u001b[0;34m\u001b[0m\u001b[0;34m\u001b[0m\u001b[0m\n\u001b[0m\u001b[1;32m    419\u001b[0m \u001b[0;34m\u001b[0m\u001b[0m\n\u001b[1;32m    420\u001b[0m \u001b[0;34m\u001b[0m\u001b[0m\n",
      "\u001b[0;32m~/.conda/envs/torchGeoM/lib/python3.9/site-packages/sklearn/base.py\u001b[0m in \u001b[0;36mscore\u001b[0;34m(self, X, y, sample_weight)\u001b[0m\n\u001b[1;32m    644\u001b[0m         \u001b[0;32mfrom\u001b[0m \u001b[0;34m.\u001b[0m\u001b[0mmetrics\u001b[0m \u001b[0;32mimport\u001b[0m \u001b[0maccuracy_score\u001b[0m\u001b[0;34m\u001b[0m\u001b[0;34m\u001b[0m\u001b[0m\n\u001b[1;32m    645\u001b[0m \u001b[0;34m\u001b[0m\u001b[0m\n\u001b[0;32m--> 646\u001b[0;31m         \u001b[0;32mreturn\u001b[0m \u001b[0maccuracy_score\u001b[0m\u001b[0;34m(\u001b[0m\u001b[0my\u001b[0m\u001b[0;34m,\u001b[0m \u001b[0mself\u001b[0m\u001b[0;34m.\u001b[0m\u001b[0mpredict\u001b[0m\u001b[0;34m(\u001b[0m\u001b[0mX\u001b[0m\u001b[0;34m)\u001b[0m\u001b[0;34m,\u001b[0m \u001b[0msample_weight\u001b[0m\u001b[0;34m=\u001b[0m\u001b[0msample_weight\u001b[0m\u001b[0;34m)\u001b[0m\u001b[0;34m\u001b[0m\u001b[0;34m\u001b[0m\u001b[0m\n\u001b[0m\u001b[1;32m    647\u001b[0m \u001b[0;34m\u001b[0m\u001b[0m\n\u001b[1;32m    648\u001b[0m     \u001b[0;32mdef\u001b[0m \u001b[0m_more_tags\u001b[0m\u001b[0;34m(\u001b[0m\u001b[0mself\u001b[0m\u001b[0;34m)\u001b[0m\u001b[0;34m:\u001b[0m\u001b[0;34m\u001b[0m\u001b[0;34m\u001b[0m\u001b[0m\n",
      "\u001b[0;32m~/.conda/envs/torchGeoM/lib/python3.9/site-packages/sklearn/svm/_base.py\u001b[0m in \u001b[0;36mpredict\u001b[0;34m(self, X)\u001b[0m\n\u001b[1;32m    789\u001b[0m             \u001b[0my\u001b[0m \u001b[0;34m=\u001b[0m \u001b[0mnp\u001b[0m\u001b[0;34m.\u001b[0m\u001b[0margmax\u001b[0m\u001b[0;34m(\u001b[0m\u001b[0mself\u001b[0m\u001b[0;34m.\u001b[0m\u001b[0mdecision_function\u001b[0m\u001b[0;34m(\u001b[0m\u001b[0mX\u001b[0m\u001b[0;34m)\u001b[0m\u001b[0;34m,\u001b[0m \u001b[0maxis\u001b[0m\u001b[0;34m=\u001b[0m\u001b[0;36m1\u001b[0m\u001b[0;34m)\u001b[0m\u001b[0;34m\u001b[0m\u001b[0;34m\u001b[0m\u001b[0m\n\u001b[1;32m    790\u001b[0m         \u001b[0;32melse\u001b[0m\u001b[0;34m:\u001b[0m\u001b[0;34m\u001b[0m\u001b[0;34m\u001b[0m\u001b[0m\n\u001b[0;32m--> 791\u001b[0;31m             \u001b[0my\u001b[0m \u001b[0;34m=\u001b[0m \u001b[0msuper\u001b[0m\u001b[0;34m(\u001b[0m\u001b[0;34m)\u001b[0m\u001b[0;34m.\u001b[0m\u001b[0mpredict\u001b[0m\u001b[0;34m(\u001b[0m\u001b[0mX\u001b[0m\u001b[0;34m)\u001b[0m\u001b[0;34m\u001b[0m\u001b[0;34m\u001b[0m\u001b[0m\n\u001b[0m\u001b[1;32m    792\u001b[0m         \u001b[0;32mreturn\u001b[0m \u001b[0mself\u001b[0m\u001b[0;34m.\u001b[0m\u001b[0mclasses_\u001b[0m\u001b[0;34m.\u001b[0m\u001b[0mtake\u001b[0m\u001b[0;34m(\u001b[0m\u001b[0mnp\u001b[0m\u001b[0;34m.\u001b[0m\u001b[0masarray\u001b[0m\u001b[0;34m(\u001b[0m\u001b[0my\u001b[0m\u001b[0;34m,\u001b[0m \u001b[0mdtype\u001b[0m\u001b[0;34m=\u001b[0m\u001b[0mnp\u001b[0m\u001b[0;34m.\u001b[0m\u001b[0mintp\u001b[0m\u001b[0;34m)\u001b[0m\u001b[0;34m)\u001b[0m\u001b[0;34m\u001b[0m\u001b[0;34m\u001b[0m\u001b[0m\n\u001b[1;32m    793\u001b[0m \u001b[0;34m\u001b[0m\u001b[0m\n",
      "\u001b[0;32m~/.conda/envs/torchGeoM/lib/python3.9/site-packages/sklearn/svm/_base.py\u001b[0m in \u001b[0;36mpredict\u001b[0;34m(self, X)\u001b[0m\n\u001b[1;32m    414\u001b[0m         \u001b[0mX\u001b[0m \u001b[0;34m=\u001b[0m \u001b[0mself\u001b[0m\u001b[0;34m.\u001b[0m\u001b[0m_validate_for_predict\u001b[0m\u001b[0;34m(\u001b[0m\u001b[0mX\u001b[0m\u001b[0;34m)\u001b[0m\u001b[0;34m\u001b[0m\u001b[0;34m\u001b[0m\u001b[0m\n\u001b[1;32m    415\u001b[0m         \u001b[0mpredict\u001b[0m \u001b[0;34m=\u001b[0m \u001b[0mself\u001b[0m\u001b[0;34m.\u001b[0m\u001b[0m_sparse_predict\u001b[0m \u001b[0;32mif\u001b[0m \u001b[0mself\u001b[0m\u001b[0;34m.\u001b[0m\u001b[0m_sparse\u001b[0m \u001b[0;32melse\u001b[0m \u001b[0mself\u001b[0m\u001b[0;34m.\u001b[0m\u001b[0m_dense_predict\u001b[0m\u001b[0;34m\u001b[0m\u001b[0;34m\u001b[0m\u001b[0m\n\u001b[0;32m--> 416\u001b[0;31m         \u001b[0;32mreturn\u001b[0m \u001b[0mpredict\u001b[0m\u001b[0;34m(\u001b[0m\u001b[0mX\u001b[0m\u001b[0;34m)\u001b[0m\u001b[0;34m\u001b[0m\u001b[0;34m\u001b[0m\u001b[0m\n\u001b[0m\u001b[1;32m    417\u001b[0m \u001b[0;34m\u001b[0m\u001b[0m\n\u001b[1;32m    418\u001b[0m     \u001b[0;32mdef\u001b[0m \u001b[0m_dense_predict\u001b[0m\u001b[0;34m(\u001b[0m\u001b[0mself\u001b[0m\u001b[0;34m,\u001b[0m \u001b[0mX\u001b[0m\u001b[0;34m)\u001b[0m\u001b[0;34m:\u001b[0m\u001b[0;34m\u001b[0m\u001b[0;34m\u001b[0m\u001b[0m\n",
      "\u001b[0;32m~/.conda/envs/torchGeoM/lib/python3.9/site-packages/sklearn/svm/_base.py\u001b[0m in \u001b[0;36m_dense_predict\u001b[0;34m(self, X)\u001b[0m\n\u001b[1;32m    433\u001b[0m         \u001b[0msvm_type\u001b[0m \u001b[0;34m=\u001b[0m \u001b[0mLIBSVM_IMPL\u001b[0m\u001b[0;34m.\u001b[0m\u001b[0mindex\u001b[0m\u001b[0;34m(\u001b[0m\u001b[0mself\u001b[0m\u001b[0;34m.\u001b[0m\u001b[0m_impl\u001b[0m\u001b[0;34m)\u001b[0m\u001b[0;34m\u001b[0m\u001b[0;34m\u001b[0m\u001b[0m\n\u001b[1;32m    434\u001b[0m \u001b[0;34m\u001b[0m\u001b[0m\n\u001b[0;32m--> 435\u001b[0;31m         return libsvm.predict(\n\u001b[0m\u001b[1;32m    436\u001b[0m             \u001b[0mX\u001b[0m\u001b[0;34m,\u001b[0m\u001b[0;34m\u001b[0m\u001b[0;34m\u001b[0m\u001b[0m\n\u001b[1;32m    437\u001b[0m             \u001b[0mself\u001b[0m\u001b[0;34m.\u001b[0m\u001b[0msupport_\u001b[0m\u001b[0;34m,\u001b[0m\u001b[0;34m\u001b[0m\u001b[0;34m\u001b[0m\u001b[0m\n",
      "\u001b[0;31mKeyboardInterrupt\u001b[0m: "
     ]
    }
   ],
   "source": [
    "from sklearn.inspection import permutation_importance\n",
    "import numpy as np\n",
    "import matplotlib.pyplot as plt\n",
    "%matplotlib inline\n",
    "\n",
    "svc_rbf =  svm.SVC(kernel='rbf', C=2)\n",
    "svc_rbf.fit(X_train, y_train)\n",
    "\n",
    "perm_importance = permutation_importance(svc_rbf, X_test, y_test)\n",
    "\n",
    "features = np.array(features_names)\n",
    "\n",
    "sorted_idx = perm_importance.importances_mean.argsort()\n"
   ]
  },
  {
   "cell_type": "code",
   "execution_count": 28,
   "id": "universal-supervision",
   "metadata": {},
   "outputs": [
    {
     "data": {
      "text/plain": [
       "Text(0.5, 0, 'Permutation Importance')"
      ]
     },
     "execution_count": 28,
     "metadata": {},
     "output_type": "execute_result"
    },
    {
     "data": {
      "image/png": "[encoded data removed]",
      "text/plain": [
       "<Figure size 432x288 with 1 Axes>"
      ]
     },
     "metadata": {
      "needs_background": "light"
     },
     "output_type": "display_data"
    }
   ],
   "source": [
    "plt.barh(features[sorted_idx][::-1][0:20], perm_importance.importances_mean[sorted_idx][::-1][0:20])\n",
    "plt.xlabel(\"Permutation Importance\")"
   ]
  },
  {
   "cell_type": "code",
   "execution_count": 29,
   "id": "boring-entertainment",
   "metadata": {},
   "outputs": [
    {
     "data": {
      "text/plain": [
       "array([0., 0., 0., 0., 0., 0., 0., 0., 0., 0.])"
      ]
     },
     "execution_count": 29,
     "metadata": {},
     "output_type": "execute_result"
    }
   ],
   "source": [
    "perm_importance.importances_mean[sorted_idx][:10]"
   ]
  },
  {
   "cell_type": "markdown",
   "id": "present-clark",
   "metadata": {},
   "source": [
    "# SVM Recursive Feature Elimination"
   ]
  },
  {
   "cell_type": "code",
   "execution_count": 30,
   "id": "psychological-constitutional",
   "metadata": {},
   "outputs": [],
   "source": [
    "#Preparo il training set\n",
    "X = data.iloc[:,:-1].to_numpy()\n",
    "y = data['lineage'].to_numpy()"
   ]
  },
  {
   "cell_type": "code",
   "execution_count": 31,
   "id": "further-career",
   "metadata": {},
   "outputs": [],
   "source": [
    "X_norm = preprocessing.normalize(X, norm='l2')"
   ]
  },
  {
   "cell_type": "code",
   "execution_count": 32,
   "id": "periodic-zimbabwe",
   "metadata": {},
   "outputs": [],
   "source": [
    "#algortimo recursive feature elimination basato sui pesi del classificatore svm\n",
    "def svm_feature_selection_linear(X_0, y_0, f_names):  \n",
    "    r = []\n",
    "    s = [*range(0,len(X_0[0])-1,1)]\n",
    "    X_train = X_0[:,s]\n",
    "    y_train = y_0\n",
    "    features = np.array(f_names)\n",
    "    while (len(s) > 0):\n",
    "        svc_linear = svm.SVC(kernel='linear')\n",
    "        svc_linear.fit(X_train, y_train)\n",
    "        f_importance = abs(svc_linear.coef_[0])\n",
    "        sorted_idx = f_importance.argsort()\n",
    "    \n",
    "        \n",
    "        r.append(features[sorted_idx[0]])\n",
    "        X_train = np.delete(X_train,sorted_idx[0],axis = 1)\n",
    "        features = np.delete(features,sorted_idx[0])       \n",
    "        s = [*range(0,len(X_train[0])-1,1)]\n",
    "       \n",
    "    \n",
    "\n",
    "    return r"
   ]
  },
  {
   "cell_type": "code",
   "execution_count": 33,
   "id": "caroline-silicon",
   "metadata": {
    "scrolled": true,
    "tags": []
   },
   "outputs": [],
   "source": [
    "ranked_f = svm_feature_selection_linear(X_norm, y, geneT.columns)"
   ]
  },
  {
   "cell_type": "code",
   "execution_count": 34,
   "id": "twelve-vessel",
   "metadata": {},
   "outputs": [],
   "source": [
    "geneRanked_arr = np.array(ranked_f)[::-1]"
   ]
  },
  {
   "cell_type": "code",
   "execution_count": 35,
   "id": "distinguished-headline",
   "metadata": {},
   "outputs": [
    {
     "data": {
      "text/plain": [
       "array(['group_1528', 'group_181', 'group_2414', ..., 'group_3484',\n",
       "       'group_3444', 'group_1034'], dtype='<U10')"
      ]
     },
     "execution_count": 35,
     "metadata": {},
     "output_type": "execute_result"
    }
   ],
   "source": [
    "geneRanked_arr"
   ]
  },
  {
   "cell_type": "code",
   "execution_count": 36,
   "id": "unlikely-strategy",
   "metadata": {},
   "outputs": [],
   "source": [
    "#pd.DataFrame(geneRanked_arr).to_csv(\"geneRankedSVM_normalized.csv\")\n",
    "#data = pd.read_csv(\"geneRankedSVM_normalized.csv\", index_col = 0)"
   ]
  },
  {
   "cell_type": "code",
   "execution_count": 108,
   "id": "silent-chair",
   "metadata": {
    "scrolled": true
   },
   "outputs": [
    {
     "data": {
      "text/plain": [
       "['group_998',\n",
       " 'group_2631',\n",
       " 'group_147',\n",
       " 'repE_2',\n",
       " 'group_2418',\n",
       " 'traC',\n",
       " 'group_935',\n",
       " 'group_2507',\n",
       " 'group_42',\n",
       " 'group_3608',\n",
       " 'group_3888',\n",
       " 'group_228',\n",
       " 'group_3729',\n",
       " 'group_1522',\n",
       " 'group_76',\n",
       " 'epsE',\n",
       " 'group_2052',\n",
       " 'group_192',\n",
       " 'group_633',\n",
       " 'group_913',\n",
       " 'group_132',\n",
       " 'group_1557',\n",
       " 'topB',\n",
       " 'group_1877',\n",
       " 'group_1537',\n",
       " 'group_914',\n",
       " 'pilE_5',\n",
       " 'group_603',\n",
       " 'pilE1_5',\n",
       " 'group_1479',\n",
       " 'group_2847',\n",
       " 'group_2467',\n",
       " 'dsbC_1',\n",
       " 'pilE_8',\n",
       " 'nosD_2',\n",
       " 'group_97',\n",
       " 'group_1127',\n",
       " 'mafA1_2',\n",
       " 'group_1919',\n",
       " 'leuC',\n",
       " 'group_15',\n",
       " 'group_2530',\n",
       " 'group_243',\n",
       " 'vapD_1',\n",
       " 'parA_2',\n",
       " 'group_1566',\n",
       " 'group_366',\n",
       " 'group_1516',\n",
       " 'group_2464',\n",
       " 'lagD_2',\n",
       " 'group_751',\n",
       " 'group_545',\n",
       " 'group_1514',\n",
       " 'group_1011',\n",
       " 'group_3059',\n",
       " 'group_3062',\n",
       " 'group_1945',\n",
       " 'group_224',\n",
       " 'group_477',\n",
       " 'group_43',\n",
       " 'piiC_1',\n",
       " 'group_1644',\n",
       " 'group_2516',\n",
       " 'group_1611',\n",
       " 'group_410',\n",
       " 'pilE1_4',\n",
       " 'group_1683',\n",
       " 'group_1187',\n",
       " 'topB_2',\n",
       " 'group_2593',\n",
       " 'group_987',\n",
       " 'group_112',\n",
       " 'group_1488',\n",
       " 'group_2531',\n",
       " 'epsD',\n",
       " 'group_2524',\n",
       " 'group_276',\n",
       " 'mafA1',\n",
       " 'group_479',\n",
       " 'group_241',\n",
       " 'pezT',\n",
       " 'group_515',\n",
       " 'group_557',\n",
       " 'pilE1_2',\n",
       " 'group_1860',\n",
       " 'trfA',\n",
       " 'group_1809',\n",
       " 'group_909',\n",
       " 'group_1853',\n",
       " 'group_47',\n",
       " 'group_1432',\n",
       " 'group_2411',\n",
       " 'group_484',\n",
       " 'group_364',\n",
       " 'group_2442',\n",
       " 'group_257',\n",
       " 'group_2289',\n",
       " 'group_949',\n",
       " 'lagD_1',\n",
       " 'group_789',\n",
       " 'group_1122',\n",
       " 'group_254',\n",
       " 'group_1547',\n",
       " 'group_2499',\n",
       " 'group_1946',\n",
       " 'pilE_1',\n",
       " 'group_1893',\n",
       " 'group_161',\n",
       " 'group_81',\n",
       " 'group_1025',\n",
       " 'group_646',\n",
       " 'group_126',\n",
       " 'group_2283',\n",
       " 'korB',\n",
       " 'pilE1_1',\n",
       " 'group_2666',\n",
       " 'group_2082',\n",
       " 'group_1541',\n",
       " 'group_2338',\n",
       " 'group_1758',\n",
       " 'group_2040',\n",
       " 'group_934',\n",
       " 'group_476',\n",
       " 'group_910',\n",
       " 'malP_3',\n",
       " 'group_474',\n",
       " 'group_650',\n",
       " 'ggt_2',\n",
       " 'porB',\n",
       " 'group_1440',\n",
       " 'group_2360',\n",
       " 'piiC_2',\n",
       " 'group_310',\n",
       " 'group_800',\n",
       " 'group_1906',\n",
       " 'group_2474',\n",
       " 'group_1801',\n",
       " 'group_2317',\n",
       " 'group_1526',\n",
       " 'group_142',\n",
       " 'group_120',\n",
       " 'group_969',\n",
       " 'group_487',\n",
       " 'group_473',\n",
       " 'group_514',\n",
       " 'group_1916',\n",
       " 'group_1736',\n",
       " 'group_1847',\n",
       " 'group_1451',\n",
       " 'group_2410',\n",
       " 'group_459',\n",
       " 'group_1918',\n",
       " 'group_108',\n",
       " 'group_966',\n",
       " 'group_1866',\n",
       " 'ptlG',\n",
       " 'group_625',\n",
       " 'group_1710',\n",
       " 'group_2110',\n",
       " 'group_1856',\n",
       " 'group_1512',\n",
       " 'tbpB_2',\n",
       " 'group_2005',\n",
       " 'group_1737',\n",
       " 'group_606',\n",
       " 'group_451',\n",
       " 'group_144',\n",
       " 'group_636',\n",
       " 'group_829',\n",
       " 'group_1125',\n",
       " 'group_1259',\n",
       " 'dnaC_1',\n",
       " 'group_1676',\n",
       " 'group_490',\n",
       " 'group_2443',\n",
       " 'group_454',\n",
       " 'group_478',\n",
       " 'group_2315',\n",
       " 'group_61',\n",
       " 'group_2033',\n",
       " 'group_984',\n",
       " 'group_2538',\n",
       " 'group_1494',\n",
       " 'group_90',\n",
       " 'group_926',\n",
       " 'group_2004',\n",
       " 'group_2011',\n",
       " 'group_2537',\n",
       " 'group_1608',\n",
       " 'group_2099',\n",
       " 'pilY1_2',\n",
       " 'group_1533',\n",
       " 'group_33',\n",
       " 'group_619',\n",
       " 'group_2104',\n",
       " 'group_4114',\n",
       " 'group_1606',\n",
       " 'group_2316',\n",
       " 'pilE_4',\n",
       " 'group_20',\n",
       " 'group_53',\n",
       " 'group_970',\n",
       " 'group_2539',\n",
       " 'group_2532',\n",
       " 'group_1163',\n",
       " 'group_556',\n",
       " 'group_2383',\n",
       " 'group_887',\n",
       " 'group_2414',\n",
       " 'group_181',\n",
       " 'group_1528']"
      ]
     },
     "execution_count": 108,
     "metadata": {},
     "output_type": "execute_result"
    }
   ],
   "source": [
    "#prendo le ultime features (le più importanti)\n",
    "n = 211\n",
    "ranked_f[-n:]\n"
   ]
  },
  {
   "cell_type": "code",
   "execution_count": 113,
   "id": "velvet-serial",
   "metadata": {},
   "outputs": [],
   "source": [
    "data[ranked_f[-n:]].T.to_csv(\"geneRankedSVM_normalized211.csv\")"
   ]
  },
  {
   "cell_type": "code",
   "execution_count": 110,
   "id": "compliant-script",
   "metadata": {},
   "outputs": [],
   "source": [
    "#filtro il dataset sulle features selezionate\n",
    "data_f = data[ranked_f[-n:]].join(lineage)"
   ]
  },
  {
   "cell_type": "code",
   "execution_count": null,
   "id": "civic-harvey",
   "metadata": {},
   "outputs": [],
   "source": []
  },
  {
   "cell_type": "code",
   "execution_count": 111,
   "id": "equipped-consent",
   "metadata": {},
   "outputs": [],
   "source": [
    "trainf, testf = train_test_split(data_f, test_size = 0.2)\n",
    "X_trainf = trainf.iloc[:,:n-1].to_numpy()\n",
    "X_trainf_norm = preprocessing.normalize(X_trainf, norm='l2')\n",
    "X_testf = testf.iloc[:,:n-1].to_numpy()\n",
    "X_testf_norm = preprocessing.normalize(X_testf, norm='l2')\n",
    "y_trainf = trainf['lineage'].to_numpy()\n",
    "y_testf = testf['lineage'].to_numpy()"
   ]
  },
  {
   "cell_type": "code",
   "execution_count": 49,
   "id": "chemical-occasion",
   "metadata": {},
   "outputs": [
    {
     "data": {
      "text/plain": [
       "array([[0.        , 0.18898224, 0.18898224, ..., 0.        , 0.18898224,\n",
       "        0.        ],\n",
       "       [0.        , 0.24253563, 0.        , ..., 0.        , 0.24253563,\n",
       "        0.        ],\n",
       "       [0.18898224, 0.18898224, 0.        , ..., 0.        , 0.18898224,\n",
       "        0.18898224],\n",
       "       ...,\n",
       "       [0.21320072, 0.21320072, 0.        , ..., 0.        , 0.        ,\n",
       "        0.21320072],\n",
       "       [0.        , 0.20412415, 0.        , ..., 0.        , 0.20412415,\n",
       "        0.20412415],\n",
       "       [0.        , 0.2       , 0.        , ..., 0.        , 0.        ,\n",
       "        0.2       ]])"
      ]
     },
     "execution_count": 49,
     "metadata": {},
     "output_type": "execute_result"
    }
   ],
   "source": [
    "X_trainf_norm"
   ]
  },
  {
   "cell_type": "code",
   "execution_count": 66,
   "id": "authentic-devon",
   "metadata": {},
   "outputs": [
    {
     "data": {
      "text/plain": [
       "SVC(kernel='linear')"
      ]
     },
     "execution_count": 66,
     "metadata": {},
     "output_type": "execute_result"
    }
   ],
   "source": [
    "#train con le feature selezionate\n",
    "linear_svc = svm.SVC(kernel='linear')\n",
    "linear_svc.fit(X_trainf_norm, y_trainf)"
   ]
  },
  {
   "cell_type": "code",
   "execution_count": 67,
   "id": "contrary-hygiene",
   "metadata": {},
   "outputs": [
    {
     "data": {
      "text/plain": [
       "array([[16,  7],\n",
       "       [ 4, 57]])"
      ]
     },
     "execution_count": 67,
     "metadata": {},
     "output_type": "execute_result"
    }
   ],
   "source": [
    "y_predf = linear_svc.predict(X_testf_norm)\n",
    "metrics.confusion_matrix(y_testf, y_predf)\n"
   ]
  },
  {
   "cell_type": "code",
   "execution_count": 68,
   "id": "equivalent-jewelry",
   "metadata": {},
   "outputs": [
    {
     "data": {
      "text/plain": [
       "0.8690476190476191"
      ]
     },
     "execution_count": 68,
     "metadata": {},
     "output_type": "execute_result"
    }
   ],
   "source": [
    "metrics.accuracy_score(y_testf, y_predf)"
   ]
  },
  {
   "cell_type": "code",
   "execution_count": 69,
   "id": "visible-bennett",
   "metadata": {},
   "outputs": [
    {
     "data": {
      "text/plain": [
       "0.865811011904762"
      ]
     },
     "execution_count": 69,
     "metadata": {},
     "output_type": "execute_result"
    }
   ],
   "source": [
    "metrics.precision_score(y_testf, y_predf,average='weighted')"
   ]
  },
  {
   "cell_type": "code",
   "execution_count": 70,
   "id": "suited-parade",
   "metadata": {},
   "outputs": [
    {
     "data": {
      "image/png": "[encoded data removed]",
      "text/plain": [
       "<Figure size 432x288 with 1 Axes>"
      ]
     },
     "metadata": {
      "needs_background": "light"
     },
     "output_type": "display_data"
    }
   ],
   "source": [
    "f_importances(abs(linear_svc.coef_[0]), features_names, top=20)"
   ]
  },
  {
   "cell_type": "code",
   "execution_count": 80,
   "id": "express-trigger",
   "metadata": {},
   "outputs": [],
   "source": [
    "#Cross Validation\n",
    "from sklearn.model_selection import cross_val_score\n",
    "Xf = data_f.iloc[:,:-1].to_numpy()\n",
    "Xfnorm = preprocessing.normalize(Xf, norm='l2')\n",
    "yf= data_f['lineage'].to_numpy()\n",
    "scores = cross_val_score(linear_svc, Xf, yf, cv=5)"
   ]
  },
  {
   "cell_type": "code",
   "execution_count": 81,
   "id": "pleasant-intro",
   "metadata": {},
   "outputs": [
    {
     "data": {
      "text/plain": [
       "array([0.82142857, 0.70238095, 0.78571429, 0.79761905, 0.62650602])"
      ]
     },
     "execution_count": 81,
     "metadata": {},
     "output_type": "execute_result"
    }
   ],
   "source": [
    "scores"
   ]
  },
  {
   "cell_type": "code",
   "execution_count": 82,
   "id": "neural-tongue",
   "metadata": {},
   "outputs": [
    {
     "name": "stdout",
     "output_type": "stream",
     "text": [
      "0.75 accuracy with a standard deviation of 0.07\n"
     ]
    }
   ],
   "source": [
    "print(\"%0.2f accuracy with a standard deviation of %0.2f\" % (scores.mean(), scores.std()))"
   ]
  },
  {
   "cell_type": "code",
   "execution_count": 58,
   "id": "mysterious-colors",
   "metadata": {},
   "outputs": [
    {
     "data": {
      "image/png": "[encoded data removed]",
      "text/plain": [
       "<Figure size 432x288 with 1 Axes>"
      ]
     },
     "metadata": {
      "needs_background": "light"
     },
     "output_type": "display_data"
    }
   ],
   "source": [
    "import matplotlib.pyplot as plt\n",
    "from sklearn.svm import SVC\n",
    "from sklearn.model_selection import StratifiedKFold\n",
    "from sklearn.model_selection import KFold\n",
    "from sklearn.feature_selection import RFECV\n",
    "from sklearn.datasets import make_classification\n",
    "svc = SVC(kernel=\"linear\")\n",
    "n = [30,60,90,120,150,180,240,270,300,330,360,390,420,450,480,510,540]\n",
    "grid_scores =np.zeros(len(n))\n",
    "scores.mean()\n",
    "for i in range(len(n)):\n",
    "# Create the RFE object and compute a cross-validated score.\n",
    "    data_f = data[ranked_f[-n[i]:]].join(lineage)\n",
    "# The \"accuracy\" scoring shows the proportion of correct classifications\n",
    "    Xf = data_f.iloc[:,:-1].to_numpy()\n",
    "    Xfnorm = preprocessing.normalize(Xf, norm='l2')\n",
    "    yf= data_f['lineage'].to_numpy()\n",
    "    cv = KFold(n_splits=10, random_state=1, shuffle=True)\n",
    "    scores = cross_val_score(linear_svc, Xfnorm, yf, cv=cv).mean()\n",
    "    grid_scores[i] = scores.mean()\n",
    "    \n",
    "# Plot number of features VS. cross-validation scores\n",
    "plt.figure()\n",
    "plt.xlabel(\"Number of features selected\")\n",
    "plt.ylabel(\"Cross validation score (accuracy)\")\n",
    "plt.plot(n,grid_scores)\n",
    "plt.show()"
   ]
  },
  {
   "cell_type": "code",
   "execution_count": 59,
   "id": "uniform-wayne",
   "metadata": {},
   "outputs": [
    {
     "data": {
      "text/plain": [
       "array([0.78292683, 0.82108014, 0.81631823, 0.81620209, 0.81387921,\n",
       "       0.81626016, 0.81387921, 0.81149826, 0.80900116, 0.80900116,\n",
       "       0.80429733, 0.80905923, 0.80429733, 0.80429733, 0.80667828,\n",
       "       0.80429733, 0.79953542])"
      ]
     },
     "execution_count": 59,
     "metadata": {},
     "output_type": "execute_result"
    }
   ],
   "source": [
    "grid_scores"
   ]
  },
  {
   "cell_type": "code",
   "execution_count": 60,
   "id": "incredible-gazette",
   "metadata": {},
   "outputs": [
    {
     "name": "stdout",
     "output_type": "stream",
     "text": [
      "Optimal number of features : 60\n"
     ]
    }
   ],
   "source": [
    "print(\"Optimal number of features : %d\" % n[grid_scores.argmax()])"
   ]
  },
  {
   "cell_type": "code",
   "execution_count": 83,
   "id": "framed-continent",
   "metadata": {},
   "outputs": [],
   "source": [
    "#Cross Validation Radial Kernel\n",
    "from sklearn.model_selection import cross_val_score\n",
    "Xf = data_f.iloc[:,:-1].to_numpy()\n",
    "Xfnorm = preprocessing.normalize(Xf, norm='l2')\n",
    "yf= data_f['lineage'].to_numpy()\n",
    "rbf = svm.SVC(kernel='rbf', gamma = 2)\n",
    "scores = cross_val_score(rbf, Xfnorm, yf, cv=5)"
   ]
  },
  {
   "cell_type": "code",
   "execution_count": 84,
   "id": "former-planning",
   "metadata": {},
   "outputs": [
    {
     "data": {
      "text/plain": [
       "array([0.77380952, 0.71428571, 0.75      , 0.85714286, 0.65060241])"
      ]
     },
     "execution_count": 84,
     "metadata": {},
     "output_type": "execute_result"
    }
   ],
   "source": [
    "scores"
   ]
  },
  {
   "cell_type": "code",
   "execution_count": 85,
   "id": "respective-history",
   "metadata": {},
   "outputs": [
    {
     "name": "stdout",
     "output_type": "stream",
     "text": [
      "0.75 accuracy with a standard deviation of 0.07\n"
     ]
    }
   ],
   "source": [
    "print(\"%0.2f accuracy with a standard deviation of %0.2f\" % (scores.mean(), scores.std()))"
   ]
  },
  {
   "cell_type": "code",
   "execution_count": 86,
   "id": "silent-acceptance",
   "metadata": {},
   "outputs": [
    {
     "name": "stdout",
     "output_type": "stream",
     "text": [
      "0.75 accuracy with a standard deviation of 0.07\n"
     ]
    }
   ],
   "source": [
    "#Logistic Regression\n",
    "from sklearn.linear_model import LogisticRegression\n",
    "\n",
    "scoreslg = cross_val_score(LogisticRegression(penalty ='l2'), Xfnorm, yf, cv=5)\n",
    "scoreslg\n",
    "print(\"%0.2f accuracy with a standard deviation of %0.2f\" % (scores.mean(), scores.std()))"
   ]
  },
  {
   "cell_type": "code",
   "execution_count": null,
   "id": "supreme-appendix",
   "metadata": {},
   "outputs": [],
   "source": []
  }
 ],
 "metadata": {
  "kernelspec": {
   "display_name": "torchGeoM",
   "language": "python",
   "name": "torchgeom"
  },
  "language_info": {
   "codemirror_mode": {
    "name": "ipython",
    "version": 3
   },
   "file_extension": ".py",
   "mimetype": "text/x-python",
   "name": "python",
   "nbconvert_exporter": "python",
   "pygments_lexer": "ipython3",
   "version": "3.9.7"
  },
  "varInspector": {
   "cols": {
    "lenName": 16,
    "lenType": 16,
    "lenVar": 40
   },
   "kernels_config": {
    "python": {
     "delete_cmd_postfix": "",
     "delete_cmd_prefix": "del ",
     "library": "var_list.py",
     "varRefreshCmd": "print(var_dic_list())"
    },
    "r": {
     "delete_cmd_postfix": ") ",
     "delete_cmd_prefix": "rm(",
     "library": "var_list.r",
     "varRefreshCmd": "cat(var_dic_list()) "
    }
   },
   "types_to_exclude": [
    "module",
    "function",
    "builtin_function_or_method",
    "instance",
    "_Feature"
   ],
   "window_display": false
  }
 },
 "nbformat": 4,
 "nbformat_minor": 5
}
